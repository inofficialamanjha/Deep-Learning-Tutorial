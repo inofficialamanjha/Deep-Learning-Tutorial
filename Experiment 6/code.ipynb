{
  "nbformat": 4,
  "nbformat_minor": 0,
  "metadata": {
    "colab": {
      "name": "18_02_2021 IT_018 DL Lab.ipynb",
      "provenance": []
    },
    "kernelspec": {
      "name": "python3",
      "display_name": "Python 3"
    },
    "accelerator": "TPU"
  },
  "cells": [
    {
      "cell_type": "markdown",
      "metadata": {
        "id": "j7eiVnl30fet"
      },
      "source": [
        "# PROJECT DETAILS\n",
        "\n",
        "Name : Aman Jha\n",
        "\n",
        "Roll Number : 2k18/IT/018\n",
        "\n",
        "Lab : Deep Learning G2\n",
        "\n",
        "Task : To evaluate performance of Covolutionar neural network on mnist dataset"
      ]
    },
    {
      "cell_type": "code",
      "metadata": {
        "id": "WI4FCSa_0lC6"
      },
      "source": [
        "from numpy import mean,std\n",
        "from matplotlib import pyplot\n",
        "from sklearn.model_selection import KFold\n",
        "from keras.datasets import mnist\n",
        "from keras.utils import to_categorical\n",
        "from keras.models import Sequential\n",
        "from keras.layers import Conv2D\n",
        "from keras.layers import MaxPooling2D\n",
        "from keras.layers import Dense\n",
        "from keras.layers import Flatten\n",
        "from keras.optimizers import SGD\n",
        "import matplotlib.pyplot as plt\n",
        "import seaborn as sns\n",
        "import numpy as np\n",
        "from sklearn.metrics import confusion_matrix"
      ],
      "execution_count": null,
      "outputs": []
    },
    {
      "cell_type": "code",
      "metadata": {
        "id": "IUbw-6Zk0rJZ"
      },
      "source": [
        "def load_dataset() :\n",
        "\n",
        "  (trainX, trainY), (testX, testY) = mnist.load_data()\n",
        "  trainX = trainX.reshape((trainX.shape[0],28,28,1))\n",
        "  testX = testX.reshape((testX.shape[0],28,28,1))\n",
        "\n",
        "  trainY = to_categorical(trainY)\n",
        "  testY = to_categorical(testY)\n",
        "\n",
        "  return trainX, trainY, testX, testY"
      ],
      "execution_count": null,
      "outputs": []
    },
    {
      "cell_type": "code",
      "metadata": {
        "id": "5_mqaKWo0s37"
      },
      "source": [
        "def prep_pixels(train,test):\n",
        "  train_norm = train.astype('float32')\n",
        "  test_norm = test.astype('float32')\n",
        "\n",
        "  train_norm /= 255\n",
        "  test_norm /= 255\n",
        "\n",
        "  return train_norm, test_norm"
      ],
      "execution_count": null,
      "outputs": []
    },
    {
      "cell_type": "code",
      "metadata": {
        "id": "oKh48dbcH2zB"
      },
      "source": [
        "trainX, trainY, testX, testY = load_dataset()"
      ],
      "execution_count": null,
      "outputs": []
    },
    {
      "cell_type": "code",
      "metadata": {
        "id": "XX72oXUqHEXM"
      },
      "source": [
        "trainX, testX = prep_pixels(trainX, testX)"
      ],
      "execution_count": null,
      "outputs": []
    },
    {
      "cell_type": "code",
      "metadata": {
        "id": "wYY8_PoLH1hB"
      },
      "source": [
        "def define_model() :\n",
        "\n",
        "  model = Sequential()\n",
        "  model.add(Conv2D(32,(3,3), activation='relu', kernel_initializer = 'he_uniform', input_shape=(28,28,1)))\n",
        "  model.add(MaxPooling2D(2,2))\n",
        "  model.add(Flatten())\n",
        "  model.add(Dense(100,activation='relu', kernel_initializer='he_uniform'))\n",
        "  model.add(Dense(10,activation='softmax'))\n",
        "\n",
        "  opt = SGD(lr=0.01, momentum = 0.9)\n",
        "  model.compile(optimizer=opt, loss = 'categorical_crossentropy', metrics = ['accuracy'])\n",
        "  return model"
      ],
      "execution_count": null,
      "outputs": []
    },
    {
      "cell_type": "code",
      "metadata": {
        "colab": {
          "base_uri": "https://localhost:8080/"
        },
        "id": "DqyYgmDyKUD-",
        "outputId": "501b98ad-a93f-4742-9a70-15a0e544caff"
      },
      "source": [
        "model = define_model()\n",
        "model.summary()"
      ],
      "execution_count": null,
      "outputs": [
        {
          "output_type": "stream",
          "text": [
            "Model: \"sequential_4\"\n",
            "_________________________________________________________________\n",
            "Layer (type)                 Output Shape              Param #   \n",
            "=================================================================\n",
            "conv2d_4 (Conv2D)            (None, 26, 26, 32)        320       \n",
            "_________________________________________________________________\n",
            "max_pooling2d_3 (MaxPooling2 (None, 13, 13, 32)        0         \n",
            "_________________________________________________________________\n",
            "flatten_3 (Flatten)          (None, 5408)              0         \n",
            "_________________________________________________________________\n",
            "dense_6 (Dense)              (None, 100)               540900    \n",
            "_________________________________________________________________\n",
            "dense_7 (Dense)              (None, 10)                1010      \n",
            "=================================================================\n",
            "Total params: 542,230\n",
            "Trainable params: 542,230\n",
            "Non-trainable params: 0\n",
            "_________________________________________________________________\n"
          ],
          "name": "stdout"
        }
      ]
    },
    {
      "cell_type": "code",
      "metadata": {
        "colab": {
          "base_uri": "https://localhost:8080/"
        },
        "id": "jUAKxawQKaWm",
        "outputId": "4a85cc8e-1d66-42de-fee4-c1db31a00647"
      },
      "source": [
        "history = model.fit(trainX, trainY,batch_size=128,epochs=25,validation_data = (testX,testY),verbose=2)"
      ],
      "execution_count": null,
      "outputs": [
        {
          "output_type": "stream",
          "text": [
            "Epoch 1/25\n",
            "469/469 - 24s - loss: 0.2798 - accuracy: 0.9168 - val_loss: 0.1429 - val_accuracy: 0.9562\n",
            "Epoch 2/25\n",
            "469/469 - 22s - loss: 0.1220 - accuracy: 0.9635 - val_loss: 0.0910 - val_accuracy: 0.9728\n",
            "Epoch 3/25\n",
            "469/469 - 22s - loss: 0.0813 - accuracy: 0.9766 - val_loss: 0.0785 - val_accuracy: 0.9758\n",
            "Epoch 4/25\n",
            "469/469 - 22s - loss: 0.0624 - accuracy: 0.9818 - val_loss: 0.0658 - val_accuracy: 0.9790\n",
            "Epoch 5/25\n",
            "469/469 - 22s - loss: 0.0483 - accuracy: 0.9861 - val_loss: 0.0523 - val_accuracy: 0.9831\n",
            "Epoch 6/25\n",
            "469/469 - 22s - loss: 0.0409 - accuracy: 0.9879 - val_loss: 0.0483 - val_accuracy: 0.9833\n",
            "Epoch 7/25\n",
            "469/469 - 22s - loss: 0.0350 - accuracy: 0.9900 - val_loss: 0.0469 - val_accuracy: 0.9840\n",
            "Epoch 8/25\n",
            "469/469 - 22s - loss: 0.0301 - accuracy: 0.9912 - val_loss: 0.0489 - val_accuracy: 0.9832\n",
            "Epoch 9/25\n",
            "469/469 - 22s - loss: 0.0254 - accuracy: 0.9929 - val_loss: 0.0497 - val_accuracy: 0.9835\n",
            "Epoch 10/25\n",
            "469/469 - 22s - loss: 0.0225 - accuracy: 0.9936 - val_loss: 0.0447 - val_accuracy: 0.9847\n",
            "Epoch 11/25\n",
            "469/469 - 22s - loss: 0.0189 - accuracy: 0.9951 - val_loss: 0.0422 - val_accuracy: 0.9852\n",
            "Epoch 12/25\n",
            "469/469 - 23s - loss: 0.0167 - accuracy: 0.9958 - val_loss: 0.0408 - val_accuracy: 0.9853\n",
            "Epoch 13/25\n",
            "469/469 - 23s - loss: 0.0142 - accuracy: 0.9964 - val_loss: 0.0395 - val_accuracy: 0.9865\n",
            "Epoch 14/25\n",
            "469/469 - 22s - loss: 0.0122 - accuracy: 0.9973 - val_loss: 0.0401 - val_accuracy: 0.9857\n",
            "Epoch 15/25\n",
            "469/469 - 23s - loss: 0.0109 - accuracy: 0.9975 - val_loss: 0.0400 - val_accuracy: 0.9865\n",
            "Epoch 16/25\n",
            "469/469 - 22s - loss: 0.0095 - accuracy: 0.9981 - val_loss: 0.0432 - val_accuracy: 0.9859\n",
            "Epoch 17/25\n",
            "469/469 - 22s - loss: 0.0080 - accuracy: 0.9985 - val_loss: 0.0406 - val_accuracy: 0.9868\n",
            "Epoch 18/25\n",
            "469/469 - 22s - loss: 0.0069 - accuracy: 0.9989 - val_loss: 0.0405 - val_accuracy: 0.9869\n",
            "Epoch 19/25\n",
            "469/469 - 22s - loss: 0.0061 - accuracy: 0.9991 - val_loss: 0.0467 - val_accuracy: 0.9853\n",
            "Epoch 20/25\n",
            "469/469 - 22s - loss: 0.0057 - accuracy: 0.9991 - val_loss: 0.0421 - val_accuracy: 0.9865\n",
            "Epoch 21/25\n",
            "469/469 - 22s - loss: 0.0049 - accuracy: 0.9995 - val_loss: 0.0404 - val_accuracy: 0.9867\n",
            "Epoch 22/25\n",
            "469/469 - 22s - loss: 0.0041 - accuracy: 0.9996 - val_loss: 0.0447 - val_accuracy: 0.9861\n",
            "Epoch 23/25\n",
            "469/469 - 22s - loss: 0.0035 - accuracy: 0.9998 - val_loss: 0.0427 - val_accuracy: 0.9859\n",
            "Epoch 24/25\n",
            "469/469 - 22s - loss: 0.0034 - accuracy: 0.9997 - val_loss: 0.0435 - val_accuracy: 0.9866\n",
            "Epoch 25/25\n",
            "469/469 - 22s - loss: 0.0028 - accuracy: 0.9998 - val_loss: 0.0422 - val_accuracy: 0.9867\n"
          ],
          "name": "stdout"
        }
      ]
    },
    {
      "cell_type": "code",
      "metadata": {
        "colab": {
          "base_uri": "https://localhost:8080/",
          "height": 312
        },
        "id": "lW7kkK9TOolR",
        "outputId": "131c665c-3915-4ea6-aa1e-cb56fc94f4e3"
      },
      "source": [
        "lose,accuracy = model.evaluate(testX,testY,verbose = True)\n",
        "\n",
        "plt.plot(history.history['accuracy'])\n",
        "plt.plot(history.history['val_accuracy'])\n",
        "plt.title('model accuracy')\n",
        "plt.ylabel('accuracy')\n",
        "plt.xlabel('epoch')\n",
        "plt.legend(['training','validation'],loc='best')\n",
        "plt.show()"
      ],
      "execution_count": null,
      "outputs": [
        {
          "output_type": "stream",
          "text": [
            "313/313 [==============================] - 2s 7ms/step - loss: 0.0422 - accuracy: 0.9867\n"
          ],
          "name": "stdout"
        },
        {
          "output_type": "display_data",
          "data": {
            "image/png": "[encoded data removed]",
            "text/plain": [
              "<Figure size 432x288 with 1 Axes>"
            ]
          },
          "metadata": {
            "tags": [],
            "needs_background": "light"
          }
        }
      ]
    },
    {
      "cell_type": "code",
      "metadata": {
        "colab": {
          "base_uri": "https://localhost:8080/",
          "height": 295
        },
        "id": "mFiSLIyJPC6F",
        "outputId": "390bc3d4-6e29-457c-fc97-d4d60c37a841"
      },
      "source": [
        "plt.plot(history.history['loss'])\n",
        "plt.plot(history.history['val_loss'])\n",
        "plt.title('model loss')\n",
        "plt.ylabel('Loss')\n",
        "plt.xlabel('epoch')\n",
        "plt.legend(['training','validation'],loc='best')\n",
        "plt.show()"
      ],
      "execution_count": null,
      "outputs": [
        {
          "output_type": "display_data",
          "data": {
            "image/png": "[encoded data removed]",
            "text/plain": [
              "<Figure size 432x288 with 1 Axes>"
            ]
          },
          "metadata": {
            "tags": [],
            "needs_background": "light"
          }
        }
      ]
    },
    {
      "cell_type": "code",
      "metadata": {
        "colab": {
          "base_uri": "https://localhost:8080/"
        },
        "id": "i-CnWYSnPGgI",
        "outputId": "cde2a081-2759-4029-e0c6-1524fbd01b88"
      },
      "source": [
        "y_pred = model.predict(testX)\n",
        "\n",
        "Y_pred = np.argmax(y_pred,1)\n",
        "Y_test = np.argmax(testY,1)\n",
        "\n",
        "mat = confusion_matrix(Y_test, Y_pred)\n",
        "print(mat)"
      ],
      "execution_count": null,
      "outputs": [
        {
          "output_type": "stream",
          "text": [
            "[[ 972    0    1    0    0    1    4    1    1    0]\n",
            " [   0 1128    1    1    0    2    1    1    1    0]\n",
            " [   1    1 1018    1    2    0    1    4    4    0]\n",
            " [   0    0    3  996    0    6    0    1    3    1]\n",
            " [   0    1    1    0  974    0    1    0    0    5]\n",
            " [   1    0    0    5    0  880    4    0    1    1]\n",
            " [   5    3    0    0    3    1  946    0    0    0]\n",
            " [   0    1    9    0    1    0    0 1015    0    2]\n",
            " [   5    0    1    2    1    3    0    2  956    4]\n",
            " [   1    0    0    4   16    3    0    2    1  982]]\n"
          ],
          "name": "stdout"
        }
      ]
    }
  ]
}