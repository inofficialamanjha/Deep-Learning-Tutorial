{
  "nbformat": 4,
  "nbformat_minor": 0,
  "metadata": {
    "colab": {
      "name": "IT_018_DL_Lab_01_04_2021.ipynb",
      "provenance": []
    },
    "kernelspec": {
      "name": "python3",
      "display_name": "Python 3"
    },
    "language_info": {
      "name": "python"
    },
    "accelerator": "TPU"
  },
  "cells": [
    {
      "cell_type": "code",
      "metadata": {
        "colab": {
          "base_uri": "https://localhost:8080/",
          "height": 35
        },
        "id": "r9UOL7x8vmQ1",
        "outputId": "9fc6d5ef-2de7-4c26-c4c1-e66bbc33723d"
      },
      "source": [
        "\"\"\"\n",
        "Name : Aman Jha\n",
        "Roll Number : 2k18/IT/018\n",
        "Date : 01-04-2021\n",
        "Lab : DL Lab\n",
        "\"\"\""
      ],
      "execution_count": null,
      "outputs": [
        {
          "output_type": "execute_result",
          "data": {
            "application/vnd.google.colaboratory.intrinsic+json": {
              "type": "string"
            },
            "text/plain": [
              "'\\nName : Aman Jha\\nRoll Number : 2k18/IT/018\\nDate : 01-04-2021\\nLab : DL Lab\\n'"
            ]
          },
          "metadata": {
            "tags": []
          },
          "execution_count": 1
        }
      ]
    },
    {
      "cell_type": "markdown",
      "metadata": {
        "id": "HxrKAsPSs1im"
      },
      "source": [
        "# CIFAR 10 Dataset\n",
        "\n",
        "- number of images : 60K\n",
        "\n",
        "- Size : 32x32 pixels ( 1024 Pixels )\n",
        "\n",
        "- No. of Classes : 10\n",
        "\n",
        "- Classes = [ airplane, automobile, bird, cat, deer, dog, frog, horse, ship, truck]"
      ]
    },
    {
      "cell_type": "code",
      "metadata": {
        "id": "HedITF7LtN08"
      },
      "source": [
        "from matplotlib import pyplot\n",
        "from keras.datasets import cifar10\n",
        "\n",
        "# test harness for evaluating models on the cifar10 dataset\n",
        "import sys\n",
        "from matplotlib import pyplot\n",
        "from keras.datasets import cifar10\n",
        "from keras.utils import to_categorical\n",
        "from keras.models import Sequential\n",
        "from keras.layers import Conv2D\n",
        "from keras.layers import MaxPooling2D\n",
        "from keras.layers import Dense\n",
        "from keras.layers import Flatten\n",
        "from keras.optimizers import SGD"
      ],
      "execution_count": null,
      "outputs": []
    },
    {
      "cell_type": "code",
      "metadata": {
        "id": "jQBER6YItqVF"
      },
      "source": [
        "# load train and test dataset\n",
        "def load_dataset():\n",
        "  # load dataset\n",
        "  (trainX, trainY), (testX, testY) = cifar10.load_data()\n",
        "\n",
        "  print('Train: X=%s, y=%s' % (trainX.shape, trainY.shape))\n",
        "  print('Test: X=%s, y=%s' % (testX.shape, testY.shape))\n",
        "\n",
        "  # one hot encode target values\n",
        "  trainY = to_categorical(trainY)\n",
        "  testY = to_categorical(testY)\n",
        "  return trainX, trainY, testX, testY"
      ],
      "execution_count": null,
      "outputs": []
    },
    {
      "cell_type": "code",
      "metadata": {
        "id": "zE_BM9Vyt29C"
      },
      "source": [
        "# scale pixels\n",
        "def prep_pixels(train, test):\n",
        "  # convert from integers to floats\n",
        "  train_norm = train.astype('float32')\n",
        "  test_norm = test.astype('float32')\n",
        "  # normalize to range 0-1\n",
        "  train_norm = train_norm / 255.0\n",
        "  test_norm = test_norm / 255.0\n",
        "  # return normalized images\n",
        "  return train_norm, test_norm"
      ],
      "execution_count": null,
      "outputs": []
    },
    {
      "cell_type": "code",
      "metadata": {
        "id": "tFL1J9YWuQ3x"
      },
      "source": [
        "def define_model():\n",
        "  model = Sequential()\n",
        "  model.add(Conv2D(16, (2, 2), activation='relu', kernel_initializer='he_uniform', padding='same', input_shape=(32, 32, 3)))\n",
        "  model.add(MaxPooling2D((2, 2),strides=(1,1)))\n",
        "  model.add(Conv2D(32, (3, 3), activation='tanh', kernel_initializer='he_uniform', padding='same',strides=(2,2)))\n",
        "  model.add(MaxPooling2D((2, 2),strides=(2,2)))\n",
        "  model.add(Conv2D(32, (3, 3), activation='relu', kernel_initializer='he_uniform', padding='same',strides=(1,1)))\n",
        "  model.add(MaxPooling2D((3, 3),strides=(1,1)))\n",
        "  model.add(Flatten())\n",
        "  model.add(Dense(100, activation='relu', kernel_initializer='he_uniform'))\n",
        "  model.add(Dense(10, activation='softmax'))\n",
        "\n",
        "  # compile model\n",
        "  opt = SGD(lr=0.001, momentum=0.9)\n",
        "  model.compile(optimizer=opt, loss='categorical_crossentropy', metrics=['accuracy'])\n",
        "  return model"
      ],
      "execution_count": null,
      "outputs": []
    },
    {
      "cell_type": "code",
      "metadata": {
        "id": "azPo_mSmuUFM"
      },
      "source": [
        "def summarize_diagnostics(history):\n",
        "  # plot loss\n",
        "  pyplot.subplot(211)\n",
        "  pyplot.title('Cross Entropy Loss')\n",
        "  pyplot.plot(history.history['loss'], color='blue', label='train')\n",
        "  pyplot.plot(history.history['val_loss'], color='orange', label='test')\n",
        "  # plot accuracy\n",
        "  pyplot.subplot(212)\n",
        "  pyplot.title('Classification Accuracy')\n",
        "  pyplot.plot(history.history['accuracy'], color='blue', label='train')\n",
        "  pyplot.plot(history.history['val_accuracy'], color='orange', label='test')\n",
        "  # save plot to file\n",
        "  filename = sys.argv[0].split('/')[-1]\n",
        "  pyplot.savefig(filename + '_plot.png')\n",
        "  pyplot.close()"
      ],
      "execution_count": null,
      "outputs": []
    },
    {
      "cell_type": "code",
      "metadata": {
        "id": "H9IE6BPNuvdB"
      },
      "source": [
        "def run_test_harness():\n",
        "  # load dataset\n",
        "  trainX, trainY, testX, testY = load_dataset()\n",
        "  # prepare pixel data\n",
        "  trainX, testX = prep_pixels(trainX, testX)\n",
        "  # define model\n",
        "  model = define_model()\n",
        "  # fit model\n",
        "  history = model.fit(trainX, trainY, epochs=50, batch_size=64, validation_data=(testX, testY), verbose=2)\n",
        "  # evaluate model\n",
        "  _, acc = model.evaluate(testX, testY, verbose=0)\n",
        "  print('> %.3f' % (acc * 100.0))\n",
        "  # learning curves\n",
        "  summarize_diagnostics(history)"
      ],
      "execution_count": null,
      "outputs": []
    },
    {
      "cell_type": "code",
      "metadata": {
        "colab": {
          "base_uri": "https://localhost:8080/"
        },
        "id": "zn6HfvhOuyku",
        "outputId": "d0c57ab5-ce7c-4a47-b9da-1cc78d63536e"
      },
      "source": [
        "run_test_harness()"
      ],
      "execution_count": null,
      "outputs": [
        {
          "output_type": "stream",
          "text": [
            "Train: X=(50000, 32, 32, 3), y=(50000, 1)\n",
            "Test: X=(10000, 32, 32, 3), y=(10000, 1)\n",
            "Epoch 1/50\n",
            "782/782 - 51s - loss: 1.8733 - accuracy: 0.3249 - val_loss: 1.6580 - val_accuracy: 0.3915\n",
            "Epoch 2/50\n",
            "782/782 - 51s - loss: 1.5624 - accuracy: 0.4347 - val_loss: 1.4557 - val_accuracy: 0.4756\n",
            "Epoch 3/50\n",
            "782/782 - 51s - loss: 1.4215 - accuracy: 0.4877 - val_loss: 1.3793 - val_accuracy: 0.5016\n",
            "Epoch 4/50\n",
            "782/782 - 51s - loss: 1.3271 - accuracy: 0.5262 - val_loss: 1.3001 - val_accuracy: 0.5343\n",
            "Epoch 5/50\n",
            "782/782 - 51s - loss: 1.2581 - accuracy: 0.5526 - val_loss: 1.2104 - val_accuracy: 0.5737\n",
            "Epoch 6/50\n",
            "782/782 - 51s - loss: 1.1993 - accuracy: 0.5746 - val_loss: 1.2096 - val_accuracy: 0.5730\n",
            "Epoch 7/50\n",
            "782/782 - 51s - loss: 1.1339 - accuracy: 0.5979 - val_loss: 1.1218 - val_accuracy: 0.6057\n",
            "Epoch 8/50\n",
            "782/782 - 51s - loss: 1.0891 - accuracy: 0.6142 - val_loss: 1.1237 - val_accuracy: 0.6013\n",
            "Epoch 9/50\n",
            "782/782 - 51s - loss: 1.0496 - accuracy: 0.6304 - val_loss: 1.1008 - val_accuracy: 0.6093\n",
            "Epoch 10/50\n",
            "782/782 - 51s - loss: 1.0078 - accuracy: 0.6471 - val_loss: 1.0519 - val_accuracy: 0.6327\n",
            "Epoch 11/50\n",
            "782/782 - 51s - loss: 0.9802 - accuracy: 0.6537 - val_loss: 1.0205 - val_accuracy: 0.6432\n",
            "Epoch 12/50\n",
            "782/782 - 51s - loss: 0.9498 - accuracy: 0.6665 - val_loss: 1.0347 - val_accuracy: 0.6419\n",
            "Epoch 13/50\n",
            "782/782 - 51s - loss: 0.9239 - accuracy: 0.6765 - val_loss: 1.0775 - val_accuracy: 0.6245\n",
            "Epoch 14/50\n",
            "782/782 - 51s - loss: 0.9025 - accuracy: 0.6822 - val_loss: 0.9690 - val_accuracy: 0.6592\n",
            "Epoch 15/50\n",
            "782/782 - 51s - loss: 0.8796 - accuracy: 0.6921 - val_loss: 0.9456 - val_accuracy: 0.6695\n",
            "Epoch 16/50\n",
            "782/782 - 51s - loss: 0.8560 - accuracy: 0.6990 - val_loss: 0.9489 - val_accuracy: 0.6704\n",
            "Epoch 17/50\n",
            "782/782 - 51s - loss: 0.8392 - accuracy: 0.7076 - val_loss: 0.9667 - val_accuracy: 0.6636\n",
            "Epoch 18/50\n",
            "782/782 - 51s - loss: 0.8181 - accuracy: 0.7138 - val_loss: 0.9175 - val_accuracy: 0.6828\n",
            "Epoch 19/50\n",
            "782/782 - 51s - loss: 0.8040 - accuracy: 0.7170 - val_loss: 0.9116 - val_accuracy: 0.6859\n",
            "Epoch 20/50\n",
            "782/782 - 51s - loss: 0.7857 - accuracy: 0.7260 - val_loss: 0.9133 - val_accuracy: 0.6831\n",
            "Epoch 21/50\n",
            "782/782 - 51s - loss: 0.7705 - accuracy: 0.7297 - val_loss: 0.9451 - val_accuracy: 0.6713\n",
            "Epoch 22/50\n",
            "782/782 - 51s - loss: 0.7565 - accuracy: 0.7360 - val_loss: 0.9007 - val_accuracy: 0.6927\n",
            "Epoch 23/50\n",
            "782/782 - 51s - loss: 0.7410 - accuracy: 0.7430 - val_loss: 0.8852 - val_accuracy: 0.6960\n",
            "Epoch 24/50\n",
            "782/782 - 51s - loss: 0.7263 - accuracy: 0.7456 - val_loss: 0.8789 - val_accuracy: 0.6992\n",
            "Epoch 25/50\n",
            "782/782 - 52s - loss: 0.7133 - accuracy: 0.7503 - val_loss: 0.8900 - val_accuracy: 0.6998\n",
            "Epoch 26/50\n",
            "782/782 - 52s - loss: 0.6997 - accuracy: 0.7576 - val_loss: 0.8942 - val_accuracy: 0.6967\n",
            "Epoch 27/50\n",
            "782/782 - 52s - loss: 0.6880 - accuracy: 0.7590 - val_loss: 0.8915 - val_accuracy: 0.6972\n",
            "Epoch 28/50\n",
            "782/782 - 52s - loss: 0.6751 - accuracy: 0.7655 - val_loss: 0.8606 - val_accuracy: 0.7049\n",
            "Epoch 29/50\n",
            "782/782 - 52s - loss: 0.6639 - accuracy: 0.7673 - val_loss: 0.8757 - val_accuracy: 0.7002\n",
            "Epoch 30/50\n",
            "782/782 - 51s - loss: 0.6550 - accuracy: 0.7703 - val_loss: 0.8695 - val_accuracy: 0.7057\n",
            "Epoch 31/50\n",
            "782/782 - 52s - loss: 0.6397 - accuracy: 0.7789 - val_loss: 0.8685 - val_accuracy: 0.7067\n",
            "Epoch 32/50\n",
            "782/782 - 52s - loss: 0.6331 - accuracy: 0.7786 - val_loss: 0.8722 - val_accuracy: 0.7049\n",
            "Epoch 33/50\n",
            "782/782 - 51s - loss: 0.6187 - accuracy: 0.7824 - val_loss: 0.8432 - val_accuracy: 0.7128\n",
            "Epoch 34/50\n",
            "782/782 - 52s - loss: 0.6081 - accuracy: 0.7880 - val_loss: 0.8748 - val_accuracy: 0.7076\n",
            "Epoch 35/50\n",
            "782/782 - 51s - loss: 0.6022 - accuracy: 0.7887 - val_loss: 0.8757 - val_accuracy: 0.7076\n",
            "Epoch 36/50\n",
            "782/782 - 51s - loss: 0.5943 - accuracy: 0.7938 - val_loss: 0.8577 - val_accuracy: 0.7159\n",
            "Epoch 37/50\n",
            "782/782 - 52s - loss: 0.5796 - accuracy: 0.7982 - val_loss: 0.8789 - val_accuracy: 0.7046\n",
            "Epoch 38/50\n",
            "782/782 - 51s - loss: 0.5707 - accuracy: 0.8008 - val_loss: 0.8593 - val_accuracy: 0.7095\n",
            "Epoch 39/50\n",
            "782/782 - 51s - loss: 0.5601 - accuracy: 0.8040 - val_loss: 0.8792 - val_accuracy: 0.7035\n",
            "Epoch 40/50\n",
            "782/782 - 51s - loss: 0.5521 - accuracy: 0.8071 - val_loss: 0.9573 - val_accuracy: 0.6874\n",
            "Epoch 41/50\n",
            "782/782 - 51s - loss: 0.5466 - accuracy: 0.8085 - val_loss: 0.8804 - val_accuracy: 0.7045\n",
            "Epoch 42/50\n",
            "782/782 - 51s - loss: 0.5314 - accuracy: 0.8139 - val_loss: 0.8718 - val_accuracy: 0.7103\n",
            "Epoch 43/50\n",
            "782/782 - 51s - loss: 0.5269 - accuracy: 0.8173 - val_loss: 0.8641 - val_accuracy: 0.7160\n",
            "Epoch 44/50\n",
            "782/782 - 51s - loss: 0.5183 - accuracy: 0.8179 - val_loss: 0.8951 - val_accuracy: 0.7095\n",
            "Epoch 45/50\n",
            "782/782 - 51s - loss: 0.5093 - accuracy: 0.8214 - val_loss: 0.8865 - val_accuracy: 0.7082\n",
            "Epoch 46/50\n",
            "782/782 - 51s - loss: 0.4991 - accuracy: 0.8260 - val_loss: 0.8742 - val_accuracy: 0.7132\n",
            "Epoch 47/50\n",
            "782/782 - 51s - loss: 0.4924 - accuracy: 0.8285 - val_loss: 0.8844 - val_accuracy: 0.7128\n",
            "Epoch 48/50\n",
            "782/782 - 51s - loss: 0.4835 - accuracy: 0.8312 - val_loss: 0.8829 - val_accuracy: 0.7149\n",
            "Epoch 49/50\n",
            "782/782 - 51s - loss: 0.4741 - accuracy: 0.8352 - val_loss: 0.9003 - val_accuracy: 0.7151\n",
            "Epoch 50/50\n",
            "782/782 - 51s - loss: 0.4618 - accuracy: 0.8387 - val_loss: 0.9596 - val_accuracy: 0.7007\n",
            "> 70.070\n"
          ],
          "name": "stdout"
        }
      ]
    },
    {
      "cell_type": "code",
      "metadata": {
        "colab": {
          "base_uri": "https://localhost:8080/",
          "height": 286
        },
        "id": "-U7C80UFAEM2",
        "outputId": "271e5f76-08b6-4a3b-d62f-95588423a374"
      },
      "source": [
        "%pylab inline\n",
        "import matplotlib.pyplot as plt\n",
        "import matplotlib.image as mpimg\n",
        "img = mpimg.imread('/content/ipykernel_launcher.py_plot.png')\n",
        "imgplot = plt.imshow(img)\n",
        "plt.show()"
      ],
      "execution_count": null,
      "outputs": [
        {
          "output_type": "stream",
          "text": [
            "Populating the interactive namespace from numpy and matplotlib\n"
          ],
          "name": "stdout"
        },
        {
          "output_type": "display_data",
          "data": {
            "image/png": "[encoded data removed]",
            "text/plain": [
              "<Figure size 432x288 with 1 Axes>"
            ]
          },
          "metadata": {
            "tags": [],
            "needs_background": "light"
          }
        }
      ]
    }
  ]
}