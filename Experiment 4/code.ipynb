{
  "nbformat": 4,
  "nbformat_minor": 0,
  "metadata": {
    "colab": {
      "name": "04_02_2021_Aman_Jha_2k18_IT_018.ipynb",
      "provenance": []
    },
    "kernelspec": {
      "name": "python3",
      "display_name": "Python 3"
    },
    "accelerator": "TPU"
  },
  "cells": [
    {
      "cell_type": "code",
      "metadata": {
        "id": "8dfjjKkDYgHQ"
      },
      "source": [
        "import matplotlib.pyplot as py\n",
        "import seaborn as sns\n",
        "import numpy as np\n",
        "from sklearn.metrics import confusion_matrix\n",
        "\n",
        "import keras\n",
        "from keras.datasets import mnist\n",
        "from keras.layers import Dense\n",
        "from keras.models import Sequential\n",
        "from matplotlib import pyplot as plt\n",
        "from random import randint"
      ],
      "execution_count": null,
      "outputs": []
    },
    {
      "cell_type": "markdown",
      "metadata": {
        "id": "IasuQvOseqjS"
      },
      "source": [
        "# PROJECT DETAILS\n",
        "\n",
        "Name : Aman Jha\n",
        "\n",
        "Roll Number : 2k18/IT/018\n",
        "\n",
        "Lab : Deep Learning G2\n",
        "\n",
        "Task : To evaluate model performance with respect to increasinghyper-parameters in a shallow neural network."
      ]
    },
    {
      "cell_type": "code",
      "metadata": {
        "colab": {
          "base_uri": "https://localhost:8080/"
        },
        "id": "yq6GoUmtZ3Ro",
        "outputId": "b3ccfdc4-2a82-4f88-c72d-711a9b571dd7"
      },
      "source": [
        "# Preparing the dataset\n",
        "# Setup train and test splits\n",
        "\n",
        "(x_train, y_train),(x_test,y_test) = mnist.load_data()"
      ],
      "execution_count": null,
      "outputs": [
        {
          "output_type": "stream",
          "text": [
            "Downloading data from https://storage.googleapis.com/tensorflow/tf-keras-datasets/mnist.npz\n",
            "11493376/11490434 [==============================] - 0s 0us/step\n"
          ],
          "name": "stdout"
        }
      ]
    },
    {
      "cell_type": "code",
      "metadata": {
        "colab": {
          "base_uri": "https://localhost:8080/"
        },
        "id": "vzL3pSHFaGHC",
        "outputId": "9dde3257-7418-447a-81cc-25751dad5a67"
      },
      "source": [
        "x_train_drawing = x_train # X-trainn drawing, is not reshaped and would be used for viewing the images\n",
        "\n",
        "print(\"X_Train\\n\",x_train[0],\"\\n\\n\",\"y_train\\n\",y_train[0]) # the first number in the dataset is 5"
      ],
      "execution_count": null,
      "outputs": [
        {
          "output_type": "stream",
          "text": [
            "X_Train\n",
            " [[  0   0   0   0   0   0   0   0   0   0   0   0   0   0   0   0   0   0\n",
            "    0   0   0   0   0   0   0   0   0   0]\n",
            " [  0   0   0   0   0   0   0   0   0   0   0   0   0   0   0   0   0   0\n",
            "    0   0   0   0   0   0   0   0   0   0]\n",
            " [  0   0   0   0   0   0   0   0   0   0   0   0   0   0   0   0   0   0\n",
            "    0   0   0   0   0   0   0   0   0   0]\n",
            " [  0   0   0   0   0   0   0   0   0   0   0   0   0   0   0   0   0   0\n",
            "    0   0   0   0   0   0   0   0   0   0]\n",
            " [  0   0   0   0   0   0   0   0   0   0   0   0   0   0   0   0   0   0\n",
            "    0   0   0   0   0   0   0   0   0   0]\n",
            " [  0   0   0   0   0   0   0   0   0   0   0   0   3  18  18  18 126 136\n",
            "  175  26 166 255 247 127   0   0   0   0]\n",
            " [  0   0   0   0   0   0   0   0  30  36  94 154 170 253 253 253 253 253\n",
            "  225 172 253 242 195  64   0   0   0   0]\n",
            " [  0   0   0   0   0   0   0  49 238 253 253 253 253 253 253 253 253 251\n",
            "   93  82  82  56  39   0   0   0   0   0]\n",
            " [  0   0   0   0   0   0   0  18 219 253 253 253 253 253 198 182 247 241\n",
            "    0   0   0   0   0   0   0   0   0   0]\n",
            " [  0   0   0   0   0   0   0   0  80 156 107 253 253 205  11   0  43 154\n",
            "    0   0   0   0   0   0   0   0   0   0]\n",
            " [  0   0   0   0   0   0   0   0   0  14   1 154 253  90   0   0   0   0\n",
            "    0   0   0   0   0   0   0   0   0   0]\n",
            " [  0   0   0   0   0   0   0   0   0   0   0 139 253 190   2   0   0   0\n",
            "    0   0   0   0   0   0   0   0   0   0]\n",
            " [  0   0   0   0   0   0   0   0   0   0   0  11 190 253  70   0   0   0\n",
            "    0   0   0   0   0   0   0   0   0   0]\n",
            " [  0   0   0   0   0   0   0   0   0   0   0   0  35 241 225 160 108   1\n",
            "    0   0   0   0   0   0   0   0   0   0]\n",
            " [  0   0   0   0   0   0   0   0   0   0   0   0   0  81 240 253 253 119\n",
            "   25   0   0   0   0   0   0   0   0   0]\n",
            " [  0   0   0   0   0   0   0   0   0   0   0   0   0   0  45 186 253 253\n",
            "  150  27   0   0   0   0   0   0   0   0]\n",
            " [  0   0   0   0   0   0   0   0   0   0   0   0   0   0   0  16  93 252\n",
            "  253 187   0   0   0   0   0   0   0   0]\n",
            " [  0   0   0   0   0   0   0   0   0   0   0   0   0   0   0   0   0 249\n",
            "  253 249  64   0   0   0   0   0   0   0]\n",
            " [  0   0   0   0   0   0   0   0   0   0   0   0   0   0  46 130 183 253\n",
            "  253 207   2   0   0   0   0   0   0   0]\n",
            " [  0   0   0   0   0   0   0   0   0   0   0   0  39 148 229 253 253 253\n",
            "  250 182   0   0   0   0   0   0   0   0]\n",
            " [  0   0   0   0   0   0   0   0   0   0  24 114 221 253 253 253 253 201\n",
            "   78   0   0   0   0   0   0   0   0   0]\n",
            " [  0   0   0   0   0   0   0   0  23  66 213 253 253 253 253 198  81   2\n",
            "    0   0   0   0   0   0   0   0   0   0]\n",
            " [  0   0   0   0   0   0  18 171 219 253 253 253 253 195  80   9   0   0\n",
            "    0   0   0   0   0   0   0   0   0   0]\n",
            " [  0   0   0   0  55 172 226 253 253 253 253 244 133  11   0   0   0   0\n",
            "    0   0   0   0   0   0   0   0   0   0]\n",
            " [  0   0   0   0 136 253 253 253 212 135 132  16   0   0   0   0   0   0\n",
            "    0   0   0   0   0   0   0   0   0   0]\n",
            " [  0   0   0   0   0   0   0   0   0   0   0   0   0   0   0   0   0   0\n",
            "    0   0   0   0   0   0   0   0   0   0]\n",
            " [  0   0   0   0   0   0   0   0   0   0   0   0   0   0   0   0   0   0\n",
            "    0   0   0   0   0   0   0   0   0   0]\n",
            " [  0   0   0   0   0   0   0   0   0   0   0   0   0   0   0   0   0   0\n",
            "    0   0   0   0   0   0   0   0   0   0]] \n",
            "\n",
            " y_train\n",
            " 5\n"
          ],
          "name": "stdout"
        }
      ]
    },
    {
      "cell_type": "code",
      "metadata": {
        "colab": {
          "base_uri": "https://localhost:8080/"
        },
        "id": "9nVK0inBa4cN",
        "outputId": "21bfc1f2-184f-47ca-c783-295367b66614"
      },
      "source": [
        "print(\"X_Train Shape:\",x_train.shape,\"\\n\\n\",\"y_train Shape:\",y_train.shape)"
      ],
      "execution_count": null,
      "outputs": [
        {
          "output_type": "stream",
          "text": [
            "X_Train Shape: (60000, 28, 28) \n",
            "\n",
            " y_train Shape: (60000,)\n"
          ],
          "name": "stdout"
        }
      ]
    },
    {
      "cell_type": "code",
      "metadata": {
        "id": "suLLEDKobWoT"
      },
      "source": [
        "image_size = 784 # since its 28 X 28\n",
        "x_train = x_train.reshape(x_train.shape[0],image_size)\n",
        "x_test = x_test.reshape(x_test.shape[0],image_size)"
      ],
      "execution_count": null,
      "outputs": []
    },
    {
      "cell_type": "code",
      "metadata": {
        "id": "eXQLOLJocYP5"
      },
      "source": [
        "num_classes = 10\n",
        "y_train = keras.utils.to_categorical(y_train,num_classes)\n",
        "y_test = keras.utils.to_categorical(y_test,num_classes)"
      ],
      "execution_count": null,
      "outputs": []
    },
    {
      "cell_type": "code",
      "metadata": {
        "colab": {
          "base_uri": "https://localhost:8080/"
        },
        "id": "HtkFXeJzbXUf",
        "outputId": "c4ac5163-d2c0-4629-f1b4-280fc06f8045"
      },
      "source": [
        "print(y_train.shape)\n",
        "print(y_train[0]) # one-hot form"
      ],
      "execution_count": null,
      "outputs": [
        {
          "output_type": "stream",
          "text": [
            "(60000, 10)\n",
            "[0. 0. 0. 0. 0. 1. 0. 0. 0. 0.]\n"
          ],
          "name": "stdout"
        }
      ]
    },
    {
      "cell_type": "code",
      "metadata": {
        "colab": {
          "base_uri": "https://localhost:8080/",
          "height": 248
        },
        "id": "7060O67dbg8Y",
        "outputId": "f6a09391-aedd-4e9c-da4d-75315a7d60a9"
      },
      "source": [
        "for i in range(64) :\n",
        "\n",
        "  ax = plt.subplot(8,8,i+1)\n",
        "  ax.axis('off')\n",
        "  plt.imshow(x_train_drawing[randint(0,x_train.shape[0])],cmap = 'Greys')"
      ],
      "execution_count": null,
      "outputs": [
        {
          "output_type": "display_data",
          "data": {
            "image/png": "[encoded data removed]",
            "text/plain": [
              "<Figure size 432x288 with 64 Axes>"
            ]
          },
          "metadata": {
            "tags": [],
            "needs_background": "light"
          }
        }
      ]
    },
    {
      "cell_type": "markdown",
      "metadata": {
        "id": "r5JIu5dGb5wT"
      },
      "source": [
        "# Layer with 25 Neurons"
      ]
    },
    {
      "cell_type": "code",
      "metadata": {
        "colab": {
          "base_uri": "https://localhost:8080/"
        },
        "id": "YTy_2-bZb2t6",
        "outputId": "09840ab9-cfc8-49a0-9775-7748dc605125"
      },
      "source": [
        "model_25 = Sequential() # feed forward - backward propagate\n",
        "# eager execution enabled - session online\n",
        "\n",
        "model_25.add(Dense(units = 25,activation = 'sigmoid',input_shape=(image_size,))) \n",
        "model_25.add(Dense(units=num_classes,activation='softmax'))\n",
        "model_25.summary()"
      ],
      "execution_count": null,
      "outputs": [
        {
          "output_type": "stream",
          "text": [
            "Model: \"sequential\"\n",
            "_________________________________________________________________\n",
            "Layer (type)                 Output Shape              Param #   \n",
            "=================================================================\n",
            "dense (Dense)                (None, 25)                19625     \n",
            "_________________________________________________________________\n",
            "dense_1 (Dense)              (None, 10)                260       \n",
            "=================================================================\n",
            "Total params: 19,885\n",
            "Trainable params: 19,885\n",
            "Non-trainable params: 0\n",
            "_________________________________________________________________\n"
          ],
          "name": "stdout"
        }
      ]
    },
    {
      "cell_type": "code",
      "metadata": {
        "colab": {
          "base_uri": "https://localhost:8080/"
        },
        "id": "AX-duzFDb-h_",
        "outputId": "aed3422d-420e-4ccc-f60f-d9c51477e764"
      },
      "source": [
        "model_25.compile(optimizer=\"sgd\",loss = 'categorical_crossentropy',metrics = ['accuracy'])\n",
        "history = model_25.fit(x_train,y_train,batch_size=128,epochs = 100,verbose=True,validation_split = .1)\n",
        "\n",
        "lose,accuracy = model_25.evaluate(x_test,y_test,verbose = True)"
      ],
      "execution_count": null,
      "outputs": [
        {
          "output_type": "stream",
          "text": [
            "Epoch 1/100\n",
            "422/422 [==============================] - 2s 4ms/step - loss: 1.7353 - accuracy: 0.4775 - val_loss: 1.0482 - val_accuracy: 0.8017\n",
            "Epoch 2/100\n",
            "422/422 [==============================] - 1s 3ms/step - loss: 1.0329 - accuracy: 0.7875 - val_loss: 0.7700 - val_accuracy: 0.8692\n",
            "Epoch 3/100\n",
            "422/422 [==============================] - 1s 3ms/step - loss: 0.8107 - accuracy: 0.8375 - val_loss: 0.6393 - val_accuracy: 0.8843\n",
            "Epoch 4/100\n",
            "422/422 [==============================] - 1s 3ms/step - loss: 0.6820 - accuracy: 0.8594 - val_loss: 0.5414 - val_accuracy: 0.8968\n",
            "Epoch 5/100\n",
            "422/422 [==============================] - 1s 2ms/step - loss: 0.5938 - accuracy: 0.8710 - val_loss: 0.4806 - val_accuracy: 0.9013\n",
            "Epoch 6/100\n",
            "422/422 [==============================] - 1s 3ms/step - loss: 0.5403 - accuracy: 0.8773 - val_loss: 0.4442 - val_accuracy: 0.9048\n",
            "Epoch 7/100\n",
            "422/422 [==============================] - 1s 3ms/step - loss: 0.4971 - accuracy: 0.8861 - val_loss: 0.4302 - val_accuracy: 0.9050\n",
            "Epoch 8/100\n",
            "422/422 [==============================] - 1s 2ms/step - loss: 0.4723 - accuracy: 0.8879 - val_loss: 0.4065 - val_accuracy: 0.9075\n",
            "Epoch 9/100\n",
            "422/422 [==============================] - 1s 3ms/step - loss: 0.4478 - accuracy: 0.8926 - val_loss: 0.3756 - val_accuracy: 0.9120\n",
            "Epoch 10/100\n",
            "422/422 [==============================] - 1s 3ms/step - loss: 0.4272 - accuracy: 0.8960 - val_loss: 0.3560 - val_accuracy: 0.9158\n",
            "Epoch 11/100\n",
            "422/422 [==============================] - 1s 3ms/step - loss: 0.4113 - accuracy: 0.8975 - val_loss: 0.3502 - val_accuracy: 0.9175\n",
            "Epoch 12/100\n",
            "422/422 [==============================] - 1s 3ms/step - loss: 0.3982 - accuracy: 0.9010 - val_loss: 0.3306 - val_accuracy: 0.9203\n",
            "Epoch 13/100\n",
            "422/422 [==============================] - 1s 3ms/step - loss: 0.3842 - accuracy: 0.9028 - val_loss: 0.3264 - val_accuracy: 0.9218\n",
            "Epoch 14/100\n",
            "422/422 [==============================] - 1s 3ms/step - loss: 0.3756 - accuracy: 0.9056 - val_loss: 0.3169 - val_accuracy: 0.9220\n",
            "Epoch 15/100\n",
            "422/422 [==============================] - 1s 3ms/step - loss: 0.3708 - accuracy: 0.9030 - val_loss: 0.3111 - val_accuracy: 0.9247\n",
            "Epoch 16/100\n",
            "422/422 [==============================] - 1s 3ms/step - loss: 0.3640 - accuracy: 0.9036 - val_loss: 0.3083 - val_accuracy: 0.9225\n",
            "Epoch 17/100\n",
            "422/422 [==============================] - 1s 2ms/step - loss: 0.3513 - accuracy: 0.9070 - val_loss: 0.3001 - val_accuracy: 0.9223\n",
            "Epoch 18/100\n",
            "422/422 [==============================] - 1s 2ms/step - loss: 0.3544 - accuracy: 0.9059 - val_loss: 0.3038 - val_accuracy: 0.9198\n",
            "Epoch 19/100\n",
            "422/422 [==============================] - 1s 2ms/step - loss: 0.3423 - accuracy: 0.9086 - val_loss: 0.3061 - val_accuracy: 0.9217\n",
            "Epoch 20/100\n",
            "422/422 [==============================] - 1s 3ms/step - loss: 0.3424 - accuracy: 0.9069 - val_loss: 0.2799 - val_accuracy: 0.9265\n",
            "Epoch 21/100\n",
            "422/422 [==============================] - 1s 3ms/step - loss: 0.3314 - accuracy: 0.9121 - val_loss: 0.2909 - val_accuracy: 0.9233\n",
            "Epoch 22/100\n",
            "422/422 [==============================] - 1s 2ms/step - loss: 0.3322 - accuracy: 0.9126 - val_loss: 0.2853 - val_accuracy: 0.9263\n",
            "Epoch 23/100\n",
            "422/422 [==============================] - 1s 3ms/step - loss: 0.3303 - accuracy: 0.9112 - val_loss: 0.2798 - val_accuracy: 0.9247\n",
            "Epoch 24/100\n",
            "422/422 [==============================] - 1s 2ms/step - loss: 0.3248 - accuracy: 0.9135 - val_loss: 0.2712 - val_accuracy: 0.9338\n",
            "Epoch 25/100\n",
            "422/422 [==============================] - 1s 3ms/step - loss: 0.3105 - accuracy: 0.9163 - val_loss: 0.2644 - val_accuracy: 0.9325\n",
            "Epoch 26/100\n",
            "422/422 [==============================] - 1s 3ms/step - loss: 0.3121 - accuracy: 0.9163 - val_loss: 0.2727 - val_accuracy: 0.9257\n",
            "Epoch 27/100\n",
            "422/422 [==============================] - 1s 3ms/step - loss: 0.3094 - accuracy: 0.9151 - val_loss: 0.2687 - val_accuracy: 0.9295\n",
            "Epoch 28/100\n",
            "422/422 [==============================] - 1s 2ms/step - loss: 0.3017 - accuracy: 0.9179 - val_loss: 0.2665 - val_accuracy: 0.9290\n",
            "Epoch 29/100\n",
            "422/422 [==============================] - 1s 3ms/step - loss: 0.3107 - accuracy: 0.9148 - val_loss: 0.2608 - val_accuracy: 0.9283\n",
            "Epoch 30/100\n",
            "422/422 [==============================] - 1s 3ms/step - loss: 0.2969 - accuracy: 0.9189 - val_loss: 0.2613 - val_accuracy: 0.9302\n",
            "Epoch 31/100\n",
            "422/422 [==============================] - 1s 2ms/step - loss: 0.3097 - accuracy: 0.9143 - val_loss: 0.2664 - val_accuracy: 0.9277\n",
            "Epoch 32/100\n",
            "422/422 [==============================] - 1s 2ms/step - loss: 0.2958 - accuracy: 0.9177 - val_loss: 0.2501 - val_accuracy: 0.9328\n",
            "Epoch 33/100\n",
            "422/422 [==============================] - 1s 3ms/step - loss: 0.2932 - accuracy: 0.9187 - val_loss: 0.2548 - val_accuracy: 0.9283\n",
            "Epoch 34/100\n",
            "422/422 [==============================] - 1s 3ms/step - loss: 0.2923 - accuracy: 0.9198 - val_loss: 0.2553 - val_accuracy: 0.9282\n",
            "Epoch 35/100\n",
            "422/422 [==============================] - 1s 3ms/step - loss: 0.2928 - accuracy: 0.9196 - val_loss: 0.2516 - val_accuracy: 0.9308\n",
            "Epoch 36/100\n",
            "422/422 [==============================] - 1s 3ms/step - loss: 0.2895 - accuracy: 0.9184 - val_loss: 0.2556 - val_accuracy: 0.9302\n",
            "Epoch 37/100\n",
            "422/422 [==============================] - 1s 3ms/step - loss: 0.2894 - accuracy: 0.9191 - val_loss: 0.2387 - val_accuracy: 0.9348\n",
            "Epoch 38/100\n",
            "422/422 [==============================] - 1s 3ms/step - loss: 0.2777 - accuracy: 0.9224 - val_loss: 0.2372 - val_accuracy: 0.9345\n",
            "Epoch 39/100\n",
            "422/422 [==============================] - 1s 3ms/step - loss: 0.2720 - accuracy: 0.9242 - val_loss: 0.2481 - val_accuracy: 0.9298\n",
            "Epoch 40/100\n",
            "422/422 [==============================] - 1s 3ms/step - loss: 0.2812 - accuracy: 0.9215 - val_loss: 0.2365 - val_accuracy: 0.9343\n",
            "Epoch 41/100\n",
            "422/422 [==============================] - 1s 3ms/step - loss: 0.2780 - accuracy: 0.9219 - val_loss: 0.2514 - val_accuracy: 0.9290\n",
            "Epoch 42/100\n",
            "422/422 [==============================] - 1s 3ms/step - loss: 0.2843 - accuracy: 0.9203 - val_loss: 0.2456 - val_accuracy: 0.9310\n",
            "Epoch 43/100\n",
            "422/422 [==============================] - 1s 2ms/step - loss: 0.2756 - accuracy: 0.9220 - val_loss: 0.2444 - val_accuracy: 0.9300\n",
            "Epoch 44/100\n",
            "422/422 [==============================] - 1s 3ms/step - loss: 0.2782 - accuracy: 0.9222 - val_loss: 0.2415 - val_accuracy: 0.9325\n",
            "Epoch 45/100\n",
            "422/422 [==============================] - 1s 3ms/step - loss: 0.2673 - accuracy: 0.9263 - val_loss: 0.2334 - val_accuracy: 0.9327\n",
            "Epoch 46/100\n",
            "422/422 [==============================] - 1s 3ms/step - loss: 0.2656 - accuracy: 0.9261 - val_loss: 0.2402 - val_accuracy: 0.9345\n",
            "Epoch 47/100\n",
            "422/422 [==============================] - 1s 3ms/step - loss: 0.2665 - accuracy: 0.9255 - val_loss: 0.2395 - val_accuracy: 0.9367\n",
            "Epoch 48/100\n",
            "422/422 [==============================] - 1s 2ms/step - loss: 0.2640 - accuracy: 0.9264 - val_loss: 0.2315 - val_accuracy: 0.9345\n",
            "Epoch 49/100\n",
            "422/422 [==============================] - 1s 3ms/step - loss: 0.2666 - accuracy: 0.9247 - val_loss: 0.2295 - val_accuracy: 0.9373\n",
            "Epoch 50/100\n",
            "422/422 [==============================] - 1s 3ms/step - loss: 0.2635 - accuracy: 0.9247 - val_loss: 0.2415 - val_accuracy: 0.9308\n",
            "Epoch 51/100\n",
            "422/422 [==============================] - 1s 3ms/step - loss: 0.2646 - accuracy: 0.9242 - val_loss: 0.2253 - val_accuracy: 0.9357\n",
            "Epoch 52/100\n",
            "422/422 [==============================] - 1s 3ms/step - loss: 0.2554 - accuracy: 0.9270 - val_loss: 0.2409 - val_accuracy: 0.9337\n",
            "Epoch 53/100\n",
            "422/422 [==============================] - 1s 3ms/step - loss: 0.2615 - accuracy: 0.9260 - val_loss: 0.2237 - val_accuracy: 0.9393\n",
            "Epoch 54/100\n",
            "422/422 [==============================] - 1s 3ms/step - loss: 0.2552 - accuracy: 0.9280 - val_loss: 0.2287 - val_accuracy: 0.9345\n",
            "Epoch 55/100\n",
            "422/422 [==============================] - 1s 3ms/step - loss: 0.2603 - accuracy: 0.9261 - val_loss: 0.2243 - val_accuracy: 0.9377\n",
            "Epoch 56/100\n",
            "422/422 [==============================] - 1s 3ms/step - loss: 0.2554 - accuracy: 0.9269 - val_loss: 0.2337 - val_accuracy: 0.9325\n",
            "Epoch 57/100\n",
            "422/422 [==============================] - 1s 3ms/step - loss: 0.2557 - accuracy: 0.9260 - val_loss: 0.2277 - val_accuracy: 0.9378\n",
            "Epoch 58/100\n",
            "422/422 [==============================] - 1s 3ms/step - loss: 0.2536 - accuracy: 0.9271 - val_loss: 0.2320 - val_accuracy: 0.9340\n",
            "Epoch 59/100\n",
            "422/422 [==============================] - 1s 3ms/step - loss: 0.2594 - accuracy: 0.9254 - val_loss: 0.2289 - val_accuracy: 0.9335\n",
            "Epoch 60/100\n",
            "422/422 [==============================] - 1s 3ms/step - loss: 0.2468 - accuracy: 0.9298 - val_loss: 0.2353 - val_accuracy: 0.9315\n",
            "Epoch 61/100\n",
            "422/422 [==============================] - 1s 3ms/step - loss: 0.2502 - accuracy: 0.9297 - val_loss: 0.2279 - val_accuracy: 0.9353\n",
            "Epoch 62/100\n",
            "422/422 [==============================] - 1s 2ms/step - loss: 0.2580 - accuracy: 0.9248 - val_loss: 0.2164 - val_accuracy: 0.9382\n",
            "Epoch 63/100\n",
            "422/422 [==============================] - 1s 3ms/step - loss: 0.2477 - accuracy: 0.9273 - val_loss: 0.2272 - val_accuracy: 0.9367\n",
            "Epoch 64/100\n",
            "422/422 [==============================] - 1s 2ms/step - loss: 0.2500 - accuracy: 0.9289 - val_loss: 0.2230 - val_accuracy: 0.9375\n",
            "Epoch 65/100\n",
            "422/422 [==============================] - 1s 3ms/step - loss: 0.2489 - accuracy: 0.9291 - val_loss: 0.2247 - val_accuracy: 0.9322\n",
            "Epoch 66/100\n",
            "422/422 [==============================] - 1s 3ms/step - loss: 0.2380 - accuracy: 0.9339 - val_loss: 0.2402 - val_accuracy: 0.9287\n",
            "Epoch 67/100\n",
            "422/422 [==============================] - 1s 3ms/step - loss: 0.2509 - accuracy: 0.9272 - val_loss: 0.2124 - val_accuracy: 0.9417\n",
            "Epoch 68/100\n",
            "422/422 [==============================] - 1s 3ms/step - loss: 0.2412 - accuracy: 0.9319 - val_loss: 0.2204 - val_accuracy: 0.9375\n",
            "Epoch 69/100\n",
            "422/422 [==============================] - 1s 3ms/step - loss: 0.2426 - accuracy: 0.9302 - val_loss: 0.2197 - val_accuracy: 0.9362\n",
            "Epoch 70/100\n",
            "422/422 [==============================] - 1s 3ms/step - loss: 0.2447 - accuracy: 0.9291 - val_loss: 0.2189 - val_accuracy: 0.9377\n",
            "Epoch 71/100\n",
            "422/422 [==============================] - 1s 3ms/step - loss: 0.2424 - accuracy: 0.9305 - val_loss: 0.2179 - val_accuracy: 0.9383\n",
            "Epoch 72/100\n",
            "422/422 [==============================] - 1s 3ms/step - loss: 0.2311 - accuracy: 0.9340 - val_loss: 0.2240 - val_accuracy: 0.9370\n",
            "Epoch 73/100\n",
            "422/422 [==============================] - 1s 3ms/step - loss: 0.2450 - accuracy: 0.9290 - val_loss: 0.2192 - val_accuracy: 0.9348\n",
            "Epoch 74/100\n",
            "422/422 [==============================] - 1s 3ms/step - loss: 0.2464 - accuracy: 0.9294 - val_loss: 0.2171 - val_accuracy: 0.9363\n",
            "Epoch 75/100\n",
            "422/422 [==============================] - 1s 3ms/step - loss: 0.2395 - accuracy: 0.9315 - val_loss: 0.2154 - val_accuracy: 0.9357\n",
            "Epoch 76/100\n",
            "422/422 [==============================] - 1s 3ms/step - loss: 0.2399 - accuracy: 0.9310 - val_loss: 0.2245 - val_accuracy: 0.9345\n",
            "Epoch 77/100\n",
            "422/422 [==============================] - 1s 3ms/step - loss: 0.2395 - accuracy: 0.9309 - val_loss: 0.2104 - val_accuracy: 0.9390\n",
            "Epoch 78/100\n",
            "422/422 [==============================] - 1s 3ms/step - loss: 0.2362 - accuracy: 0.9316 - val_loss: 0.2091 - val_accuracy: 0.9408\n",
            "Epoch 79/100\n",
            "422/422 [==============================] - 1s 3ms/step - loss: 0.2321 - accuracy: 0.9324 - val_loss: 0.2167 - val_accuracy: 0.9368\n",
            "Epoch 80/100\n",
            "422/422 [==============================] - 1s 3ms/step - loss: 0.2362 - accuracy: 0.9299 - val_loss: 0.2207 - val_accuracy: 0.9350\n",
            "Epoch 81/100\n",
            "422/422 [==============================] - 1s 3ms/step - loss: 0.2431 - accuracy: 0.9292 - val_loss: 0.2186 - val_accuracy: 0.9347\n",
            "Epoch 82/100\n",
            "422/422 [==============================] - 1s 3ms/step - loss: 0.2423 - accuracy: 0.9293 - val_loss: 0.2053 - val_accuracy: 0.9398\n",
            "Epoch 83/100\n",
            "422/422 [==============================] - 1s 3ms/step - loss: 0.2294 - accuracy: 0.9330 - val_loss: 0.2035 - val_accuracy: 0.9403\n",
            "Epoch 84/100\n",
            "422/422 [==============================] - 1s 3ms/step - loss: 0.2289 - accuracy: 0.9341 - val_loss: 0.2066 - val_accuracy: 0.9392\n",
            "Epoch 85/100\n",
            "422/422 [==============================] - 1s 3ms/step - loss: 0.2306 - accuracy: 0.9332 - val_loss: 0.2038 - val_accuracy: 0.9412\n",
            "Epoch 86/100\n",
            "422/422 [==============================] - 1s 3ms/step - loss: 0.2247 - accuracy: 0.9356 - val_loss: 0.2090 - val_accuracy: 0.9400\n",
            "Epoch 87/100\n",
            "422/422 [==============================] - 1s 3ms/step - loss: 0.2260 - accuracy: 0.9349 - val_loss: 0.2102 - val_accuracy: 0.9392\n",
            "Epoch 88/100\n",
            "422/422 [==============================] - 1s 3ms/step - loss: 0.2309 - accuracy: 0.9333 - val_loss: 0.2054 - val_accuracy: 0.9417\n",
            "Epoch 89/100\n",
            "422/422 [==============================] - 1s 3ms/step - loss: 0.2272 - accuracy: 0.9349 - val_loss: 0.2044 - val_accuracy: 0.9410\n",
            "Epoch 90/100\n",
            "422/422 [==============================] - 1s 3ms/step - loss: 0.2282 - accuracy: 0.9351 - val_loss: 0.2121 - val_accuracy: 0.9383\n",
            "Epoch 91/100\n",
            "422/422 [==============================] - 1s 3ms/step - loss: 0.2361 - accuracy: 0.9313 - val_loss: 0.2042 - val_accuracy: 0.9420\n",
            "Epoch 92/100\n",
            "422/422 [==============================] - 1s 3ms/step - loss: 0.2216 - accuracy: 0.9369 - val_loss: 0.2097 - val_accuracy: 0.9400\n",
            "Epoch 93/100\n",
            "422/422 [==============================] - 1s 3ms/step - loss: 0.2227 - accuracy: 0.9353 - val_loss: 0.2055 - val_accuracy: 0.9410\n",
            "Epoch 94/100\n",
            "422/422 [==============================] - 1s 3ms/step - loss: 0.2277 - accuracy: 0.9333 - val_loss: 0.2106 - val_accuracy: 0.9385\n",
            "Epoch 95/100\n",
            "422/422 [==============================] - 1s 3ms/step - loss: 0.2238 - accuracy: 0.9346 - val_loss: 0.2097 - val_accuracy: 0.9418\n",
            "Epoch 96/100\n",
            "422/422 [==============================] - 1s 3ms/step - loss: 0.2251 - accuracy: 0.9356 - val_loss: 0.2002 - val_accuracy: 0.9447\n",
            "Epoch 97/100\n",
            "422/422 [==============================] - 1s 3ms/step - loss: 0.2237 - accuracy: 0.9356 - val_loss: 0.2089 - val_accuracy: 0.9422\n",
            "Epoch 98/100\n",
            "422/422 [==============================] - 1s 3ms/step - loss: 0.2245 - accuracy: 0.9332 - val_loss: 0.2042 - val_accuracy: 0.9432\n",
            "Epoch 99/100\n",
            "422/422 [==============================] - 1s 3ms/step - loss: 0.2181 - accuracy: 0.9382 - val_loss: 0.2124 - val_accuracy: 0.9440\n",
            "Epoch 100/100\n",
            "422/422 [==============================] - 1s 3ms/step - loss: 0.2240 - accuracy: 0.9354 - val_loss: 0.2023 - val_accuracy: 0.9403\n",
            "313/313 [==============================] - 0s 1ms/step - loss: 0.2417 - accuracy: 0.9287\n"
          ],
          "name": "stdout"
        }
      ]
    },
    {
      "cell_type": "code",
      "metadata": {
        "colab": {
          "base_uri": "https://localhost:8080/",
          "height": 295
        },
        "id": "QE6dR9Xfcn7j",
        "outputId": "f9e21d24-40d4-4028-b09f-dfafd80ad7b6"
      },
      "source": [
        "plt.plot(history.history['accuracy'])\n",
        "plt.plot(history.history['val_accuracy'])\n",
        "plt.title('model 25 accuracy')\n",
        "plt.ylabel('accuracy')\n",
        "plt.xlabel('epoch')\n",
        "plt.legend(['training','validation'],loc='best')\n",
        "plt.show()"
      ],
      "execution_count": null,
      "outputs": [
        {
          "output_type": "display_data",
          "data": {
            "image/png": "[encoded data removed]",
            "text/plain": [
              "<Figure size 432x288 with 1 Axes>"
            ]
          },
          "metadata": {
            "tags": [],
            "needs_background": "light"
          }
        }
      ]
    },
    {
      "cell_type": "markdown",
      "metadata": {
        "id": "yLQm3_NJcvXB"
      },
      "source": [
        "# Layer with 50 Neurons"
      ]
    },
    {
      "cell_type": "code",
      "metadata": {
        "colab": {
          "base_uri": "https://localhost:8080/"
        },
        "id": "5gRRDT2XcypA",
        "outputId": "3186056d-0bf4-472b-a257-b7b233ff35eb"
      },
      "source": [
        "model_50 = Sequential() # feed forward - backward propagate\n",
        "# eager execution enabled - session online\n",
        "\n",
        "model_50.add(Dense(units = 50,activation = 'sigmoid',input_shape=(image_size,))) \n",
        "model_50.add(Dense(units=num_classes,activation='softmax'))\n",
        "model_50.summary()"
      ],
      "execution_count": null,
      "outputs": [
        {
          "output_type": "stream",
          "text": [
            "Model: \"sequential_2\"\n",
            "_________________________________________________________________\n",
            "Layer (type)                 Output Shape              Param #   \n",
            "=================================================================\n",
            "dense_4 (Dense)              (None, 50)                39250     \n",
            "_________________________________________________________________\n",
            "dense_5 (Dense)              (None, 10)                510       \n",
            "=================================================================\n",
            "Total params: 39,760\n",
            "Trainable params: 39,760\n",
            "Non-trainable params: 0\n",
            "_________________________________________________________________\n"
          ],
          "name": "stdout"
        }
      ]
    },
    {
      "cell_type": "code",
      "metadata": {
        "colab": {
          "base_uri": "https://localhost:8080/"
        },
        "id": "xRdVJLEkdLR_",
        "outputId": "c353d589-4f10-4753-e148-49decee59b90"
      },
      "source": [
        "model_50.compile(optimizer=\"sgd\",loss = 'categorical_crossentropy',metrics = ['accuracy'])\n",
        "history = model_50.fit(x_train,y_train,batch_size=128,epochs = 100,verbose=True,validation_split = .1)\n",
        "\n",
        "lose,accuracy = model_50.evaluate(x_test,y_test,verbose = True)"
      ],
      "execution_count": null,
      "outputs": [
        {
          "output_type": "stream",
          "text": [
            "Epoch 1/100\n",
            "422/422 [==============================] - 2s 4ms/step - loss: 1.6224 - accuracy: 0.5271 - val_loss: 0.7529 - val_accuracy: 0.8550\n",
            "Epoch 2/100\n",
            "422/422 [==============================] - 1s 3ms/step - loss: 0.7512 - accuracy: 0.8362 - val_loss: 0.5386 - val_accuracy: 0.8883\n",
            "Epoch 3/100\n",
            "422/422 [==============================] - 1s 3ms/step - loss: 0.5665 - accuracy: 0.8742 - val_loss: 0.4550 - val_accuracy: 0.9010\n",
            "Epoch 4/100\n",
            "422/422 [==============================] - 1s 3ms/step - loss: 0.4924 - accuracy: 0.8820 - val_loss: 0.3906 - val_accuracy: 0.9117\n",
            "Epoch 5/100\n",
            "422/422 [==============================] - 1s 3ms/step - loss: 0.4377 - accuracy: 0.8937 - val_loss: 0.3620 - val_accuracy: 0.9147\n",
            "Epoch 6/100\n",
            "422/422 [==============================] - 1s 3ms/step - loss: 0.3988 - accuracy: 0.9019 - val_loss: 0.3329 - val_accuracy: 0.9220\n",
            "Epoch 7/100\n",
            "422/422 [==============================] - 1s 3ms/step - loss: 0.3703 - accuracy: 0.9084 - val_loss: 0.3089 - val_accuracy: 0.9243\n",
            "Epoch 8/100\n",
            "422/422 [==============================] - 1s 3ms/step - loss: 0.3560 - accuracy: 0.9096 - val_loss: 0.2971 - val_accuracy: 0.9247\n",
            "Epoch 9/100\n",
            "422/422 [==============================] - 1s 3ms/step - loss: 0.3348 - accuracy: 0.9133 - val_loss: 0.2896 - val_accuracy: 0.9248\n",
            "Epoch 10/100\n",
            "422/422 [==============================] - 1s 3ms/step - loss: 0.3288 - accuracy: 0.9135 - val_loss: 0.2782 - val_accuracy: 0.9255\n",
            "Epoch 11/100\n",
            "422/422 [==============================] - 1s 3ms/step - loss: 0.3187 - accuracy: 0.9165 - val_loss: 0.2748 - val_accuracy: 0.9273\n",
            "Epoch 12/100\n",
            "422/422 [==============================] - 1s 3ms/step - loss: 0.3068 - accuracy: 0.9197 - val_loss: 0.2652 - val_accuracy: 0.9305\n",
            "Epoch 13/100\n",
            "422/422 [==============================] - 1s 3ms/step - loss: 0.2955 - accuracy: 0.9219 - val_loss: 0.2560 - val_accuracy: 0.9317\n",
            "Epoch 14/100\n",
            "422/422 [==============================] - 1s 3ms/step - loss: 0.2864 - accuracy: 0.9244 - val_loss: 0.2493 - val_accuracy: 0.9355\n",
            "Epoch 15/100\n",
            "422/422 [==============================] - 1s 3ms/step - loss: 0.2835 - accuracy: 0.9244 - val_loss: 0.2443 - val_accuracy: 0.9335\n",
            "Epoch 16/100\n",
            "422/422 [==============================] - 1s 3ms/step - loss: 0.2752 - accuracy: 0.9254 - val_loss: 0.2336 - val_accuracy: 0.9375\n",
            "Epoch 17/100\n",
            "422/422 [==============================] - 1s 3ms/step - loss: 0.2656 - accuracy: 0.9263 - val_loss: 0.2381 - val_accuracy: 0.9380\n",
            "Epoch 18/100\n",
            "422/422 [==============================] - 1s 3ms/step - loss: 0.2622 - accuracy: 0.9291 - val_loss: 0.2293 - val_accuracy: 0.9415\n",
            "Epoch 19/100\n",
            "422/422 [==============================] - 1s 3ms/step - loss: 0.2602 - accuracy: 0.9298 - val_loss: 0.2332 - val_accuracy: 0.9377\n",
            "Epoch 20/100\n",
            "422/422 [==============================] - 1s 3ms/step - loss: 0.2523 - accuracy: 0.9307 - val_loss: 0.2289 - val_accuracy: 0.9370\n",
            "Epoch 21/100\n",
            "422/422 [==============================] - 1s 3ms/step - loss: 0.2450 - accuracy: 0.9334 - val_loss: 0.2212 - val_accuracy: 0.9392\n",
            "Epoch 22/100\n",
            "422/422 [==============================] - 1s 3ms/step - loss: 0.2371 - accuracy: 0.9357 - val_loss: 0.2195 - val_accuracy: 0.9410\n",
            "Epoch 23/100\n",
            "422/422 [==============================] - 1s 3ms/step - loss: 0.2467 - accuracy: 0.9313 - val_loss: 0.2146 - val_accuracy: 0.9413\n",
            "Epoch 24/100\n",
            "422/422 [==============================] - 1s 3ms/step - loss: 0.2354 - accuracy: 0.9361 - val_loss: 0.2158 - val_accuracy: 0.9425\n",
            "Epoch 25/100\n",
            "422/422 [==============================] - 1s 3ms/step - loss: 0.2321 - accuracy: 0.9362 - val_loss: 0.2145 - val_accuracy: 0.9408\n",
            "Epoch 26/100\n",
            "422/422 [==============================] - 1s 3ms/step - loss: 0.2353 - accuracy: 0.9357 - val_loss: 0.2143 - val_accuracy: 0.9393\n",
            "Epoch 27/100\n",
            "422/422 [==============================] - 1s 3ms/step - loss: 0.2190 - accuracy: 0.9399 - val_loss: 0.2084 - val_accuracy: 0.9460\n",
            "Epoch 28/100\n",
            "422/422 [==============================] - 1s 3ms/step - loss: 0.2252 - accuracy: 0.9388 - val_loss: 0.2074 - val_accuracy: 0.9437\n",
            "Epoch 29/100\n",
            "422/422 [==============================] - 1s 3ms/step - loss: 0.2247 - accuracy: 0.9377 - val_loss: 0.2099 - val_accuracy: 0.9440\n",
            "Epoch 30/100\n",
            "422/422 [==============================] - 1s 3ms/step - loss: 0.2204 - accuracy: 0.9395 - val_loss: 0.2023 - val_accuracy: 0.9438\n",
            "Epoch 31/100\n",
            "422/422 [==============================] - 1s 3ms/step - loss: 0.2130 - accuracy: 0.9405 - val_loss: 0.2019 - val_accuracy: 0.9458\n",
            "Epoch 32/100\n",
            "422/422 [==============================] - 1s 3ms/step - loss: 0.2146 - accuracy: 0.9402 - val_loss: 0.1990 - val_accuracy: 0.9453\n",
            "Epoch 33/100\n",
            "422/422 [==============================] - 1s 3ms/step - loss: 0.2141 - accuracy: 0.9401 - val_loss: 0.1923 - val_accuracy: 0.9468\n",
            "Epoch 34/100\n",
            "422/422 [==============================] - 1s 3ms/step - loss: 0.2062 - accuracy: 0.9435 - val_loss: 0.1930 - val_accuracy: 0.9495\n",
            "Epoch 35/100\n",
            "422/422 [==============================] - 1s 3ms/step - loss: 0.2103 - accuracy: 0.9418 - val_loss: 0.1930 - val_accuracy: 0.9483\n",
            "Epoch 36/100\n",
            "422/422 [==============================] - 1s 3ms/step - loss: 0.2016 - accuracy: 0.9457 - val_loss: 0.1910 - val_accuracy: 0.9473\n",
            "Epoch 37/100\n",
            "422/422 [==============================] - 1s 3ms/step - loss: 0.1987 - accuracy: 0.9454 - val_loss: 0.1940 - val_accuracy: 0.9467\n",
            "Epoch 38/100\n",
            "422/422 [==============================] - 1s 3ms/step - loss: 0.2023 - accuracy: 0.9443 - val_loss: 0.1910 - val_accuracy: 0.9460\n",
            "Epoch 39/100\n",
            "422/422 [==============================] - 1s 3ms/step - loss: 0.2004 - accuracy: 0.9450 - val_loss: 0.1881 - val_accuracy: 0.9475\n",
            "Epoch 40/100\n",
            "422/422 [==============================] - 1s 3ms/step - loss: 0.2039 - accuracy: 0.9421 - val_loss: 0.1893 - val_accuracy: 0.9458\n",
            "Epoch 41/100\n",
            "422/422 [==============================] - 1s 3ms/step - loss: 0.1984 - accuracy: 0.9441 - val_loss: 0.1892 - val_accuracy: 0.9510\n",
            "Epoch 42/100\n",
            "422/422 [==============================] - 1s 3ms/step - loss: 0.1989 - accuracy: 0.9435 - val_loss: 0.1823 - val_accuracy: 0.9495\n",
            "Epoch 43/100\n",
            "422/422 [==============================] - 1s 3ms/step - loss: 0.1934 - accuracy: 0.9455 - val_loss: 0.1833 - val_accuracy: 0.9488\n",
            "Epoch 44/100\n",
            "422/422 [==============================] - 1s 3ms/step - loss: 0.1923 - accuracy: 0.9461 - val_loss: 0.1846 - val_accuracy: 0.9473\n",
            "Epoch 45/100\n",
            "422/422 [==============================] - 1s 3ms/step - loss: 0.1873 - accuracy: 0.9478 - val_loss: 0.1820 - val_accuracy: 0.9490\n",
            "Epoch 46/100\n",
            "422/422 [==============================] - 1s 3ms/step - loss: 0.1886 - accuracy: 0.9481 - val_loss: 0.1788 - val_accuracy: 0.9477\n",
            "Epoch 47/100\n",
            "422/422 [==============================] - 1s 3ms/step - loss: 0.1859 - accuracy: 0.9476 - val_loss: 0.1794 - val_accuracy: 0.9500\n",
            "Epoch 48/100\n",
            "422/422 [==============================] - 1s 3ms/step - loss: 0.1865 - accuracy: 0.9489 - val_loss: 0.1781 - val_accuracy: 0.9487\n",
            "Epoch 49/100\n",
            "422/422 [==============================] - 1s 3ms/step - loss: 0.1819 - accuracy: 0.9505 - val_loss: 0.1729 - val_accuracy: 0.9512\n",
            "Epoch 50/100\n",
            "422/422 [==============================] - 1s 3ms/step - loss: 0.1797 - accuracy: 0.9497 - val_loss: 0.1752 - val_accuracy: 0.9508\n",
            "Epoch 51/100\n",
            "422/422 [==============================] - 1s 3ms/step - loss: 0.1820 - accuracy: 0.9496 - val_loss: 0.1703 - val_accuracy: 0.9510\n",
            "Epoch 52/100\n",
            "422/422 [==============================] - 1s 3ms/step - loss: 0.1757 - accuracy: 0.9509 - val_loss: 0.1773 - val_accuracy: 0.9518\n",
            "Epoch 53/100\n",
            "422/422 [==============================] - 1s 3ms/step - loss: 0.1839 - accuracy: 0.9476 - val_loss: 0.1730 - val_accuracy: 0.9522\n",
            "Epoch 54/100\n",
            "422/422 [==============================] - 1s 3ms/step - loss: 0.1760 - accuracy: 0.9513 - val_loss: 0.1676 - val_accuracy: 0.9520\n",
            "Epoch 55/100\n",
            "422/422 [==============================] - 1s 3ms/step - loss: 0.1754 - accuracy: 0.9500 - val_loss: 0.1729 - val_accuracy: 0.9518\n",
            "Epoch 56/100\n",
            "422/422 [==============================] - 1s 3ms/step - loss: 0.1756 - accuracy: 0.9516 - val_loss: 0.1723 - val_accuracy: 0.9497\n",
            "Epoch 57/100\n",
            "422/422 [==============================] - 1s 3ms/step - loss: 0.1737 - accuracy: 0.9510 - val_loss: 0.1732 - val_accuracy: 0.9520\n",
            "Epoch 58/100\n",
            "422/422 [==============================] - 1s 3ms/step - loss: 0.1727 - accuracy: 0.9514 - val_loss: 0.1666 - val_accuracy: 0.9525\n",
            "Epoch 59/100\n",
            "422/422 [==============================] - 1s 3ms/step - loss: 0.1699 - accuracy: 0.9521 - val_loss: 0.1741 - val_accuracy: 0.9485\n",
            "Epoch 60/100\n",
            "422/422 [==============================] - 1s 3ms/step - loss: 0.1730 - accuracy: 0.9520 - val_loss: 0.1753 - val_accuracy: 0.9495\n",
            "Epoch 61/100\n",
            "422/422 [==============================] - 1s 3ms/step - loss: 0.1661 - accuracy: 0.9527 - val_loss: 0.1656 - val_accuracy: 0.9507\n",
            "Epoch 62/100\n",
            "422/422 [==============================] - 1s 3ms/step - loss: 0.1651 - accuracy: 0.9530 - val_loss: 0.1689 - val_accuracy: 0.9532\n",
            "Epoch 63/100\n",
            "422/422 [==============================] - 1s 3ms/step - loss: 0.1639 - accuracy: 0.9528 - val_loss: 0.1626 - val_accuracy: 0.9525\n",
            "Epoch 64/100\n",
            "422/422 [==============================] - 1s 3ms/step - loss: 0.1658 - accuracy: 0.9520 - val_loss: 0.1618 - val_accuracy: 0.9515\n",
            "Epoch 65/100\n",
            "422/422 [==============================] - 1s 3ms/step - loss: 0.1648 - accuracy: 0.9534 - val_loss: 0.1678 - val_accuracy: 0.9560\n",
            "Epoch 66/100\n",
            "422/422 [==============================] - 1s 3ms/step - loss: 0.1658 - accuracy: 0.9538 - val_loss: 0.1662 - val_accuracy: 0.9548\n",
            "Epoch 67/100\n",
            "422/422 [==============================] - 1s 3ms/step - loss: 0.1630 - accuracy: 0.9530 - val_loss: 0.1619 - val_accuracy: 0.9543\n",
            "Epoch 68/100\n",
            "422/422 [==============================] - 1s 3ms/step - loss: 0.1597 - accuracy: 0.9543 - val_loss: 0.1649 - val_accuracy: 0.9522\n",
            "Epoch 69/100\n",
            "422/422 [==============================] - 1s 3ms/step - loss: 0.1684 - accuracy: 0.9516 - val_loss: 0.1591 - val_accuracy: 0.9560\n",
            "Epoch 70/100\n",
            "422/422 [==============================] - 1s 3ms/step - loss: 0.1578 - accuracy: 0.9557 - val_loss: 0.1602 - val_accuracy: 0.9550\n",
            "Epoch 71/100\n",
            "422/422 [==============================] - 1s 3ms/step - loss: 0.1607 - accuracy: 0.9547 - val_loss: 0.1606 - val_accuracy: 0.9560\n",
            "Epoch 72/100\n",
            "422/422 [==============================] - 1s 3ms/step - loss: 0.1550 - accuracy: 0.9566 - val_loss: 0.1601 - val_accuracy: 0.9565\n",
            "Epoch 73/100\n",
            "422/422 [==============================] - 1s 3ms/step - loss: 0.1604 - accuracy: 0.9540 - val_loss: 0.1606 - val_accuracy: 0.9560\n",
            "Epoch 74/100\n",
            "422/422 [==============================] - 1s 3ms/step - loss: 0.1551 - accuracy: 0.9550 - val_loss: 0.1598 - val_accuracy: 0.9567\n",
            "Epoch 75/100\n",
            "422/422 [==============================] - 1s 3ms/step - loss: 0.1537 - accuracy: 0.9567 - val_loss: 0.1572 - val_accuracy: 0.9547\n",
            "Epoch 76/100\n",
            "422/422 [==============================] - 1s 3ms/step - loss: 0.1522 - accuracy: 0.9571 - val_loss: 0.1560 - val_accuracy: 0.9565\n",
            "Epoch 77/100\n",
            "422/422 [==============================] - 1s 3ms/step - loss: 0.1542 - accuracy: 0.9570 - val_loss: 0.1595 - val_accuracy: 0.9525\n",
            "Epoch 78/100\n",
            "422/422 [==============================] - 1s 3ms/step - loss: 0.1485 - accuracy: 0.9576 - val_loss: 0.1553 - val_accuracy: 0.9542\n",
            "Epoch 79/100\n",
            "422/422 [==============================] - 1s 3ms/step - loss: 0.1496 - accuracy: 0.9587 - val_loss: 0.1566 - val_accuracy: 0.9552\n",
            "Epoch 80/100\n",
            "422/422 [==============================] - 1s 3ms/step - loss: 0.1565 - accuracy: 0.9553 - val_loss: 0.1604 - val_accuracy: 0.9537\n",
            "Epoch 81/100\n",
            "422/422 [==============================] - 1s 3ms/step - loss: 0.1489 - accuracy: 0.9571 - val_loss: 0.1608 - val_accuracy: 0.9522\n",
            "Epoch 82/100\n",
            "422/422 [==============================] - 1s 3ms/step - loss: 0.1539 - accuracy: 0.9564 - val_loss: 0.1573 - val_accuracy: 0.9518\n",
            "Epoch 83/100\n",
            "422/422 [==============================] - 1s 3ms/step - loss: 0.1492 - accuracy: 0.9578 - val_loss: 0.1579 - val_accuracy: 0.9545\n",
            "Epoch 84/100\n",
            "422/422 [==============================] - 1s 3ms/step - loss: 0.1505 - accuracy: 0.9581 - val_loss: 0.1595 - val_accuracy: 0.9557\n",
            "Epoch 85/100\n",
            "422/422 [==============================] - 1s 3ms/step - loss: 0.1509 - accuracy: 0.9572 - val_loss: 0.1567 - val_accuracy: 0.9555\n",
            "Epoch 86/100\n",
            "422/422 [==============================] - 1s 3ms/step - loss: 0.1477 - accuracy: 0.9585 - val_loss: 0.1496 - val_accuracy: 0.9558\n",
            "Epoch 87/100\n",
            "422/422 [==============================] - 1s 3ms/step - loss: 0.1418 - accuracy: 0.9595 - val_loss: 0.1525 - val_accuracy: 0.9543\n",
            "Epoch 88/100\n",
            "422/422 [==============================] - 1s 3ms/step - loss: 0.1430 - accuracy: 0.9603 - val_loss: 0.1537 - val_accuracy: 0.9542\n",
            "Epoch 89/100\n",
            "422/422 [==============================] - 1s 3ms/step - loss: 0.1439 - accuracy: 0.9603 - val_loss: 0.1526 - val_accuracy: 0.9557\n",
            "Epoch 90/100\n",
            "422/422 [==============================] - 1s 3ms/step - loss: 0.1462 - accuracy: 0.9585 - val_loss: 0.1526 - val_accuracy: 0.9557\n",
            "Epoch 91/100\n",
            "422/422 [==============================] - 1s 3ms/step - loss: 0.1463 - accuracy: 0.9587 - val_loss: 0.1476 - val_accuracy: 0.9573\n",
            "Epoch 92/100\n",
            "422/422 [==============================] - 1s 3ms/step - loss: 0.1402 - accuracy: 0.9611 - val_loss: 0.1515 - val_accuracy: 0.9578\n",
            "Epoch 93/100\n",
            "422/422 [==============================] - 1s 3ms/step - loss: 0.1391 - accuracy: 0.9618 - val_loss: 0.1497 - val_accuracy: 0.9565\n",
            "Epoch 94/100\n",
            "422/422 [==============================] - 1s 3ms/step - loss: 0.1364 - accuracy: 0.9626 - val_loss: 0.1455 - val_accuracy: 0.9583\n",
            "Epoch 95/100\n",
            "422/422 [==============================] - 1s 3ms/step - loss: 0.1393 - accuracy: 0.9607 - val_loss: 0.1566 - val_accuracy: 0.9553\n",
            "Epoch 96/100\n",
            "422/422 [==============================] - 1s 3ms/step - loss: 0.1423 - accuracy: 0.9607 - val_loss: 0.1458 - val_accuracy: 0.9598\n",
            "Epoch 97/100\n",
            "422/422 [==============================] - 1s 3ms/step - loss: 0.1364 - accuracy: 0.9614 - val_loss: 0.1496 - val_accuracy: 0.9565\n",
            "Epoch 98/100\n",
            "422/422 [==============================] - 1s 3ms/step - loss: 0.1393 - accuracy: 0.9597 - val_loss: 0.1469 - val_accuracy: 0.9567\n",
            "Epoch 99/100\n",
            "422/422 [==============================] - 1s 3ms/step - loss: 0.1372 - accuracy: 0.9606 - val_loss: 0.1530 - val_accuracy: 0.9548\n",
            "Epoch 100/100\n",
            "422/422 [==============================] - 1s 3ms/step - loss: 0.1348 - accuracy: 0.9619 - val_loss: 0.1496 - val_accuracy: 0.9575\n",
            "313/313 [==============================] - 0s 1ms/step - loss: 0.1766 - accuracy: 0.9464\n"
          ],
          "name": "stdout"
        }
      ]
    },
    {
      "cell_type": "code",
      "metadata": {
        "colab": {
          "base_uri": "https://localhost:8080/",
          "height": 295
        },
        "id": "4Gbdx1NldRcH",
        "outputId": "297d7815-568f-488a-ff30-7eaa3a7b6601"
      },
      "source": [
        "plt.plot(history.history['accuracy'])\n",
        "plt.plot(history.history['val_accuracy'])\n",
        "plt.title('model 50 accuracy')\n",
        "plt.ylabel('accuracy')\n",
        "plt.xlabel('epoch')\n",
        "plt.legend(['training','validation'],loc='best')\n",
        "plt.show()"
      ],
      "execution_count": null,
      "outputs": [
        {
          "output_type": "display_data",
          "data": {
            "image/png": "[encoded data removed]",
            "text/plain": [
              "<Figure size 432x288 with 1 Axes>"
            ]
          },
          "metadata": {
            "tags": [],
            "needs_background": "light"
          }
        }
      ]
    },
    {
      "cell_type": "markdown",
      "metadata": {
        "id": "7tM6Gs7Zc3He"
      },
      "source": [
        "# Layer with 100 Neurons"
      ]
    },
    {
      "cell_type": "code",
      "metadata": {
        "colab": {
          "base_uri": "https://localhost:8080/"
        },
        "id": "kRaLnsjPdCpY",
        "outputId": "0bb7539a-a60c-418d-f618-9f210c94a379"
      },
      "source": [
        "model_100 = Sequential() # feed forward - backward propagate\n",
        "# eager execution enabled - session online\n",
        "\n",
        "model_100.add(Dense(units = 100,activation = 'sigmoid',input_shape=(image_size,))) \n",
        "model_100.add(Dense(units=num_classes,activation='softmax'))\n",
        "model_100.summary()"
      ],
      "execution_count": null,
      "outputs": [
        {
          "output_type": "stream",
          "text": [
            "Model: \"sequential_3\"\n",
            "_________________________________________________________________\n",
            "Layer (type)                 Output Shape              Param #   \n",
            "=================================================================\n",
            "dense_6 (Dense)              (None, 100)               78500     \n",
            "_________________________________________________________________\n",
            "dense_7 (Dense)              (None, 10)                1010      \n",
            "=================================================================\n",
            "Total params: 79,510\n",
            "Trainable params: 79,510\n",
            "Non-trainable params: 0\n",
            "_________________________________________________________________\n"
          ],
          "name": "stdout"
        }
      ]
    },
    {
      "cell_type": "code",
      "metadata": {
        "colab": {
          "base_uri": "https://localhost:8080/"
        },
        "id": "WfU0ZfOPdMgS",
        "outputId": "cc33f7d5-0250-4ff1-cabf-d17a52d9db83"
      },
      "source": [
        "model_100.compile(optimizer=\"sgd\",loss = 'categorical_crossentropy',metrics = ['accuracy'])\n",
        "history = model_100.fit(x_train,y_train,batch_size=128,epochs = 100,verbose=True,validation_split = .1)\n",
        "\n",
        "lose,accuracy = model_100.evaluate(x_test,y_test,verbose = True)"
      ],
      "execution_count": null,
      "outputs": [
        {
          "output_type": "stream",
          "text": [
            "Epoch 1/100\n",
            "422/422 [==============================] - 2s 4ms/step - loss: 1.5125 - accuracy: 0.5532 - val_loss: 0.6173 - val_accuracy: 0.8707\n",
            "Epoch 2/100\n",
            "422/422 [==============================] - 2s 4ms/step - loss: 0.6272 - accuracy: 0.8524 - val_loss: 0.4367 - val_accuracy: 0.9020\n",
            "Epoch 3/100\n",
            "422/422 [==============================] - 2s 4ms/step - loss: 0.4759 - accuracy: 0.8834 - val_loss: 0.3641 - val_accuracy: 0.9145\n",
            "Epoch 4/100\n",
            "422/422 [==============================] - 2s 4ms/step - loss: 0.4129 - accuracy: 0.8942 - val_loss: 0.3290 - val_accuracy: 0.9175\n",
            "Epoch 5/100\n",
            "422/422 [==============================] - 2s 4ms/step - loss: 0.3720 - accuracy: 0.9042 - val_loss: 0.2979 - val_accuracy: 0.9240\n",
            "Epoch 6/100\n",
            "422/422 [==============================] - 2s 4ms/step - loss: 0.3407 - accuracy: 0.9120 - val_loss: 0.2769 - val_accuracy: 0.9293\n",
            "Epoch 7/100\n",
            "422/422 [==============================] - 2s 4ms/step - loss: 0.3184 - accuracy: 0.9168 - val_loss: 0.2619 - val_accuracy: 0.9353\n",
            "Epoch 8/100\n",
            "422/422 [==============================] - 2s 4ms/step - loss: 0.3039 - accuracy: 0.9190 - val_loss: 0.2528 - val_accuracy: 0.9367\n",
            "Epoch 9/100\n",
            "422/422 [==============================] - 2s 4ms/step - loss: 0.2899 - accuracy: 0.9222 - val_loss: 0.2410 - val_accuracy: 0.9387\n",
            "Epoch 10/100\n",
            "422/422 [==============================] - 2s 4ms/step - loss: 0.2772 - accuracy: 0.9254 - val_loss: 0.2327 - val_accuracy: 0.9398\n",
            "Epoch 11/100\n",
            "422/422 [==============================] - 2s 4ms/step - loss: 0.2633 - accuracy: 0.9285 - val_loss: 0.2240 - val_accuracy: 0.9410\n",
            "Epoch 12/100\n",
            "422/422 [==============================] - 2s 5ms/step - loss: 0.2529 - accuracy: 0.9315 - val_loss: 0.2141 - val_accuracy: 0.9415\n",
            "Epoch 13/100\n",
            "422/422 [==============================] - 2s 5ms/step - loss: 0.2376 - accuracy: 0.9367 - val_loss: 0.2082 - val_accuracy: 0.9447\n",
            "Epoch 14/100\n",
            "422/422 [==============================] - 2s 5ms/step - loss: 0.2343 - accuracy: 0.9360 - val_loss: 0.2031 - val_accuracy: 0.9462\n",
            "Epoch 15/100\n",
            "422/422 [==============================] - 2s 5ms/step - loss: 0.2295 - accuracy: 0.9360 - val_loss: 0.2027 - val_accuracy: 0.9463\n",
            "Epoch 16/100\n",
            "422/422 [==============================] - 2s 4ms/step - loss: 0.2232 - accuracy: 0.9384 - val_loss: 0.1978 - val_accuracy: 0.9452\n",
            "Epoch 17/100\n",
            "422/422 [==============================] - 2s 5ms/step - loss: 0.2163 - accuracy: 0.9413 - val_loss: 0.1899 - val_accuracy: 0.9472\n",
            "Epoch 18/100\n",
            "422/422 [==============================] - 2s 4ms/step - loss: 0.2081 - accuracy: 0.9434 - val_loss: 0.1871 - val_accuracy: 0.9490\n",
            "Epoch 19/100\n",
            "422/422 [==============================] - 2s 4ms/step - loss: 0.2017 - accuracy: 0.9453 - val_loss: 0.1804 - val_accuracy: 0.9525\n",
            "Epoch 20/100\n",
            "422/422 [==============================] - 2s 4ms/step - loss: 0.1985 - accuracy: 0.9457 - val_loss: 0.1801 - val_accuracy: 0.9522\n",
            "Epoch 21/100\n",
            "422/422 [==============================] - 2s 4ms/step - loss: 0.1911 - accuracy: 0.9484 - val_loss: 0.1782 - val_accuracy: 0.9535\n",
            "Epoch 22/100\n",
            "422/422 [==============================] - 2s 4ms/step - loss: 0.1934 - accuracy: 0.9459 - val_loss: 0.1746 - val_accuracy: 0.9517\n",
            "Epoch 23/100\n",
            "422/422 [==============================] - 2s 4ms/step - loss: 0.1868 - accuracy: 0.9491 - val_loss: 0.1734 - val_accuracy: 0.9525\n",
            "Epoch 24/100\n",
            "422/422 [==============================] - 2s 4ms/step - loss: 0.1888 - accuracy: 0.9493 - val_loss: 0.1719 - val_accuracy: 0.9537\n",
            "Epoch 25/100\n",
            "422/422 [==============================] - 2s 4ms/step - loss: 0.1799 - accuracy: 0.9520 - val_loss: 0.1694 - val_accuracy: 0.9555\n",
            "Epoch 26/100\n",
            "422/422 [==============================] - 2s 4ms/step - loss: 0.1785 - accuracy: 0.9508 - val_loss: 0.1652 - val_accuracy: 0.9577\n",
            "Epoch 27/100\n",
            "422/422 [==============================] - 2s 4ms/step - loss: 0.1725 - accuracy: 0.9516 - val_loss: 0.1649 - val_accuracy: 0.9555\n",
            "Epoch 28/100\n",
            "422/422 [==============================] - 1s 3ms/step - loss: 0.1681 - accuracy: 0.9551 - val_loss: 0.1609 - val_accuracy: 0.9568\n",
            "Epoch 29/100\n",
            "422/422 [==============================] - 2s 4ms/step - loss: 0.1698 - accuracy: 0.9537 - val_loss: 0.1600 - val_accuracy: 0.9560\n",
            "Epoch 30/100\n",
            "422/422 [==============================] - 2s 4ms/step - loss: 0.1608 - accuracy: 0.9574 - val_loss: 0.1578 - val_accuracy: 0.9570\n",
            "Epoch 31/100\n",
            "422/422 [==============================] - 2s 4ms/step - loss: 0.1570 - accuracy: 0.9579 - val_loss: 0.1577 - val_accuracy: 0.9575\n",
            "Epoch 32/100\n",
            "422/422 [==============================] - 2s 4ms/step - loss: 0.1619 - accuracy: 0.9561 - val_loss: 0.1549 - val_accuracy: 0.9578\n",
            "Epoch 33/100\n",
            "422/422 [==============================] - 2s 4ms/step - loss: 0.1581 - accuracy: 0.9566 - val_loss: 0.1513 - val_accuracy: 0.9580\n",
            "Epoch 34/100\n",
            "422/422 [==============================] - 2s 4ms/step - loss: 0.1517 - accuracy: 0.9587 - val_loss: 0.1538 - val_accuracy: 0.9583\n",
            "Epoch 35/100\n",
            "422/422 [==============================] - 2s 4ms/step - loss: 0.1512 - accuracy: 0.9588 - val_loss: 0.1496 - val_accuracy: 0.9597\n",
            "Epoch 36/100\n",
            "422/422 [==============================] - 2s 4ms/step - loss: 0.1524 - accuracy: 0.9585 - val_loss: 0.1501 - val_accuracy: 0.9583\n",
            "Epoch 37/100\n",
            "422/422 [==============================] - 2s 4ms/step - loss: 0.1464 - accuracy: 0.9596 - val_loss: 0.1468 - val_accuracy: 0.9608\n",
            "Epoch 38/100\n",
            "422/422 [==============================] - 2s 4ms/step - loss: 0.1460 - accuracy: 0.9611 - val_loss: 0.1460 - val_accuracy: 0.9600\n",
            "Epoch 39/100\n",
            "422/422 [==============================] - 2s 4ms/step - loss: 0.1460 - accuracy: 0.9604 - val_loss: 0.1455 - val_accuracy: 0.9572\n",
            "Epoch 40/100\n",
            "422/422 [==============================] - 2s 4ms/step - loss: 0.1413 - accuracy: 0.9619 - val_loss: 0.1441 - val_accuracy: 0.9593\n",
            "Epoch 41/100\n",
            "422/422 [==============================] - 2s 4ms/step - loss: 0.1399 - accuracy: 0.9634 - val_loss: 0.1429 - val_accuracy: 0.9607\n",
            "Epoch 42/100\n",
            "422/422 [==============================] - 2s 4ms/step - loss: 0.1365 - accuracy: 0.9636 - val_loss: 0.1414 - val_accuracy: 0.9625\n",
            "Epoch 43/100\n",
            "422/422 [==============================] - 2s 4ms/step - loss: 0.1320 - accuracy: 0.9645 - val_loss: 0.1407 - val_accuracy: 0.9598\n",
            "Epoch 44/100\n",
            "422/422 [==============================] - 2s 4ms/step - loss: 0.1364 - accuracy: 0.9633 - val_loss: 0.1431 - val_accuracy: 0.9617\n",
            "Epoch 45/100\n",
            "422/422 [==============================] - 2s 4ms/step - loss: 0.1321 - accuracy: 0.9630 - val_loss: 0.1416 - val_accuracy: 0.9600\n",
            "Epoch 46/100\n",
            "422/422 [==============================] - 2s 4ms/step - loss: 0.1335 - accuracy: 0.9634 - val_loss: 0.1396 - val_accuracy: 0.9618\n",
            "Epoch 47/100\n",
            "422/422 [==============================] - 2s 4ms/step - loss: 0.1312 - accuracy: 0.9638 - val_loss: 0.1391 - val_accuracy: 0.9617\n",
            "Epoch 48/100\n",
            "422/422 [==============================] - 2s 4ms/step - loss: 0.1287 - accuracy: 0.9653 - val_loss: 0.1367 - val_accuracy: 0.9615\n",
            "Epoch 49/100\n",
            "422/422 [==============================] - 2s 4ms/step - loss: 0.1252 - accuracy: 0.9657 - val_loss: 0.1401 - val_accuracy: 0.9585\n",
            "Epoch 50/100\n",
            "422/422 [==============================] - 2s 4ms/step - loss: 0.1245 - accuracy: 0.9666 - val_loss: 0.1378 - val_accuracy: 0.9605\n",
            "Epoch 51/100\n",
            "422/422 [==============================] - 2s 4ms/step - loss: 0.1222 - accuracy: 0.9671 - val_loss: 0.1348 - val_accuracy: 0.9638\n",
            "Epoch 52/100\n",
            "422/422 [==============================] - 2s 4ms/step - loss: 0.1179 - accuracy: 0.9686 - val_loss: 0.1305 - val_accuracy: 0.9632\n",
            "Epoch 53/100\n",
            "422/422 [==============================] - 2s 4ms/step - loss: 0.1207 - accuracy: 0.9670 - val_loss: 0.1362 - val_accuracy: 0.9618\n",
            "Epoch 54/100\n",
            "422/422 [==============================] - 2s 4ms/step - loss: 0.1186 - accuracy: 0.9681 - val_loss: 0.1346 - val_accuracy: 0.9632\n",
            "Epoch 55/100\n",
            "422/422 [==============================] - 2s 4ms/step - loss: 0.1173 - accuracy: 0.9685 - val_loss: 0.1308 - val_accuracy: 0.9648\n",
            "Epoch 56/100\n",
            "422/422 [==============================] - 2s 4ms/step - loss: 0.1158 - accuracy: 0.9697 - val_loss: 0.1313 - val_accuracy: 0.9640\n",
            "Epoch 57/100\n",
            "422/422 [==============================] - 2s 4ms/step - loss: 0.1089 - accuracy: 0.9712 - val_loss: 0.1309 - val_accuracy: 0.9645\n",
            "Epoch 58/100\n",
            "422/422 [==============================] - 2s 4ms/step - loss: 0.1101 - accuracy: 0.9701 - val_loss: 0.1284 - val_accuracy: 0.9647\n",
            "Epoch 59/100\n",
            "422/422 [==============================] - 2s 4ms/step - loss: 0.1129 - accuracy: 0.9696 - val_loss: 0.1296 - val_accuracy: 0.9653\n",
            "Epoch 60/100\n",
            "422/422 [==============================] - 2s 4ms/step - loss: 0.1064 - accuracy: 0.9722 - val_loss: 0.1290 - val_accuracy: 0.9647\n",
            "Epoch 61/100\n",
            "422/422 [==============================] - 2s 4ms/step - loss: 0.1081 - accuracy: 0.9702 - val_loss: 0.1271 - val_accuracy: 0.9637\n",
            "Epoch 62/100\n",
            "422/422 [==============================] - 2s 4ms/step - loss: 0.1120 - accuracy: 0.9684 - val_loss: 0.1286 - val_accuracy: 0.9652\n",
            "Epoch 63/100\n",
            "422/422 [==============================] - 2s 4ms/step - loss: 0.1032 - accuracy: 0.9721 - val_loss: 0.1265 - val_accuracy: 0.9653\n",
            "Epoch 64/100\n",
            "422/422 [==============================] - 2s 4ms/step - loss: 0.1058 - accuracy: 0.9725 - val_loss: 0.1283 - val_accuracy: 0.9642\n",
            "Epoch 65/100\n",
            "422/422 [==============================] - 2s 5ms/step - loss: 0.1074 - accuracy: 0.9716 - val_loss: 0.1269 - val_accuracy: 0.9633\n",
            "Epoch 66/100\n",
            "422/422 [==============================] - 2s 5ms/step - loss: 0.1046 - accuracy: 0.9722 - val_loss: 0.1239 - val_accuracy: 0.9652\n",
            "Epoch 67/100\n",
            "422/422 [==============================] - 2s 5ms/step - loss: 0.1064 - accuracy: 0.9729 - val_loss: 0.1259 - val_accuracy: 0.9648\n",
            "Epoch 68/100\n",
            "422/422 [==============================] - 2s 5ms/step - loss: 0.1017 - accuracy: 0.9740 - val_loss: 0.1217 - val_accuracy: 0.9657\n",
            "Epoch 69/100\n",
            "422/422 [==============================] - 2s 5ms/step - loss: 0.1001 - accuracy: 0.9742 - val_loss: 0.1226 - val_accuracy: 0.9655\n",
            "Epoch 70/100\n",
            "422/422 [==============================] - 2s 5ms/step - loss: 0.0985 - accuracy: 0.9742 - val_loss: 0.1266 - val_accuracy: 0.9645\n",
            "Epoch 71/100\n",
            "422/422 [==============================] - 2s 4ms/step - loss: 0.0997 - accuracy: 0.9736 - val_loss: 0.1223 - val_accuracy: 0.9658\n",
            "Epoch 72/100\n",
            "422/422 [==============================] - 2s 4ms/step - loss: 0.0939 - accuracy: 0.9761 - val_loss: 0.1222 - val_accuracy: 0.9668\n",
            "Epoch 73/100\n",
            "422/422 [==============================] - 2s 4ms/step - loss: 0.1006 - accuracy: 0.9727 - val_loss: 0.1220 - val_accuracy: 0.9662\n",
            "Epoch 74/100\n",
            "422/422 [==============================] - 2s 4ms/step - loss: 0.0959 - accuracy: 0.9760 - val_loss: 0.1223 - val_accuracy: 0.9642\n",
            "Epoch 75/100\n",
            "422/422 [==============================] - 2s 4ms/step - loss: 0.0905 - accuracy: 0.9766 - val_loss: 0.1228 - val_accuracy: 0.9657\n",
            "Epoch 76/100\n",
            "422/422 [==============================] - 2s 4ms/step - loss: 0.0925 - accuracy: 0.9769 - val_loss: 0.1218 - val_accuracy: 0.9632\n",
            "Epoch 77/100\n",
            "422/422 [==============================] - 2s 4ms/step - loss: 0.0923 - accuracy: 0.9775 - val_loss: 0.1208 - val_accuracy: 0.9655\n",
            "Epoch 78/100\n",
            "422/422 [==============================] - 2s 4ms/step - loss: 0.0894 - accuracy: 0.9772 - val_loss: 0.1193 - val_accuracy: 0.9653\n",
            "Epoch 79/100\n",
            "422/422 [==============================] - 2s 4ms/step - loss: 0.0911 - accuracy: 0.9771 - val_loss: 0.1199 - val_accuracy: 0.9655\n",
            "Epoch 80/100\n",
            "422/422 [==============================] - 2s 4ms/step - loss: 0.0889 - accuracy: 0.9768 - val_loss: 0.1217 - val_accuracy: 0.9638\n",
            "Epoch 81/100\n",
            "422/422 [==============================] - 2s 4ms/step - loss: 0.0878 - accuracy: 0.9781 - val_loss: 0.1210 - val_accuracy: 0.9655\n",
            "Epoch 82/100\n",
            "422/422 [==============================] - 2s 4ms/step - loss: 0.0907 - accuracy: 0.9759 - val_loss: 0.1146 - val_accuracy: 0.9667\n",
            "Epoch 83/100\n",
            "422/422 [==============================] - 2s 4ms/step - loss: 0.0849 - accuracy: 0.9785 - val_loss: 0.1171 - val_accuracy: 0.9660\n",
            "Epoch 84/100\n",
            "422/422 [==============================] - 2s 4ms/step - loss: 0.0823 - accuracy: 0.9790 - val_loss: 0.1185 - val_accuracy: 0.9673\n",
            "Epoch 85/100\n",
            "422/422 [==============================] - 2s 4ms/step - loss: 0.0858 - accuracy: 0.9776 - val_loss: 0.1175 - val_accuracy: 0.9670\n",
            "Epoch 86/100\n",
            "422/422 [==============================] - 2s 4ms/step - loss: 0.0880 - accuracy: 0.9779 - val_loss: 0.1176 - val_accuracy: 0.9660\n",
            "Epoch 87/100\n",
            "422/422 [==============================] - 2s 4ms/step - loss: 0.0836 - accuracy: 0.9789 - val_loss: 0.1172 - val_accuracy: 0.9672\n",
            "Epoch 88/100\n",
            "422/422 [==============================] - 2s 4ms/step - loss: 0.0810 - accuracy: 0.9787 - val_loss: 0.1164 - val_accuracy: 0.9672\n",
            "Epoch 89/100\n",
            "422/422 [==============================] - 2s 4ms/step - loss: 0.0826 - accuracy: 0.9795 - val_loss: 0.1168 - val_accuracy: 0.9667\n",
            "Epoch 90/100\n",
            "422/422 [==============================] - 2s 4ms/step - loss: 0.0772 - accuracy: 0.9815 - val_loss: 0.1161 - val_accuracy: 0.9682\n",
            "Epoch 91/100\n",
            "422/422 [==============================] - 2s 4ms/step - loss: 0.0760 - accuracy: 0.9811 - val_loss: 0.1146 - val_accuracy: 0.9685\n",
            "Epoch 92/100\n",
            "422/422 [==============================] - 2s 4ms/step - loss: 0.0765 - accuracy: 0.9805 - val_loss: 0.1132 - val_accuracy: 0.9672\n",
            "Epoch 93/100\n",
            "422/422 [==============================] - 2s 4ms/step - loss: 0.0775 - accuracy: 0.9809 - val_loss: 0.1125 - val_accuracy: 0.9685\n",
            "Epoch 94/100\n",
            "422/422 [==============================] - 2s 5ms/step - loss: 0.0769 - accuracy: 0.9803 - val_loss: 0.1168 - val_accuracy: 0.9672\n",
            "Epoch 95/100\n",
            "422/422 [==============================] - 2s 4ms/step - loss: 0.0787 - accuracy: 0.9802 - val_loss: 0.1139 - val_accuracy: 0.9668\n",
            "Epoch 96/100\n",
            "422/422 [==============================] - 2s 4ms/step - loss: 0.0739 - accuracy: 0.9819 - val_loss: 0.1133 - val_accuracy: 0.9680\n",
            "Epoch 97/100\n",
            "422/422 [==============================] - 2s 5ms/step - loss: 0.0715 - accuracy: 0.9831 - val_loss: 0.1137 - val_accuracy: 0.9660\n",
            "Epoch 98/100\n",
            "422/422 [==============================] - 2s 4ms/step - loss: 0.0746 - accuracy: 0.9816 - val_loss: 0.1168 - val_accuracy: 0.9652\n",
            "Epoch 99/100\n",
            "422/422 [==============================] - 2s 4ms/step - loss: 0.0721 - accuracy: 0.9813 - val_loss: 0.1129 - val_accuracy: 0.9678\n",
            "Epoch 100/100\n",
            "422/422 [==============================] - 2s 4ms/step - loss: 0.0715 - accuracy: 0.9824 - val_loss: 0.1195 - val_accuracy: 0.9638\n",
            "313/313 [==============================] - 0s 1ms/step - loss: 0.1384 - accuracy: 0.9585\n"
          ],
          "name": "stdout"
        }
      ]
    },
    {
      "cell_type": "code",
      "metadata": {
        "colab": {
          "base_uri": "https://localhost:8080/",
          "height": 295
        },
        "id": "KnljPGoudSox",
        "outputId": "6f1737f2-2122-4f70-8678-f45828348a6f"
      },
      "source": [
        "plt.plot(history.history['accuracy'])\n",
        "plt.plot(history.history['val_accuracy'])\n",
        "plt.title('model 100 accuracy')\n",
        "plt.ylabel('accuracy')\n",
        "plt.xlabel('epoch')\n",
        "plt.legend(['training','validation'],loc='best')\n",
        "plt.show()"
      ],
      "execution_count": null,
      "outputs": [
        {
          "output_type": "display_data",
          "data": {
            "image/png": "[encoded data removed]",
            "text/plain": [
              "<Figure size 432x288 with 1 Axes>"
            ]
          },
          "metadata": {
            "tags": [],
            "needs_background": "light"
          }
        }
      ]
    },
    {
      "cell_type": "markdown",
      "metadata": {
        "id": "9LJvTmeTc3Ri"
      },
      "source": [
        "# Layer with 200 Neurons"
      ]
    },
    {
      "cell_type": "code",
      "metadata": {
        "colab": {
          "base_uri": "https://localhost:8080/"
        },
        "id": "aP8XJMPRdFDq",
        "outputId": "b78b3add-98b8-4900-9e1b-b9c0c56c2b75"
      },
      "source": [
        "model_200 = Sequential() # feed forward - backward propagate\n",
        "# eager execution enabled - session online\n",
        "\n",
        "model_200.add(Dense(units = 200,activation = 'sigmoid',input_shape=(image_size,))) \n",
        "model_200.add(Dense(units=num_classes,activation='softmax'))\n",
        "model_200.summary()"
      ],
      "execution_count": null,
      "outputs": [
        {
          "output_type": "stream",
          "text": [
            "Model: \"sequential_4\"\n",
            "_________________________________________________________________\n",
            "Layer (type)                 Output Shape              Param #   \n",
            "=================================================================\n",
            "dense_8 (Dense)              (None, 200)               157000    \n",
            "_________________________________________________________________\n",
            "dense_9 (Dense)              (None, 10)                2010      \n",
            "=================================================================\n",
            "Total params: 159,010\n",
            "Trainable params: 159,010\n",
            "Non-trainable params: 0\n",
            "_________________________________________________________________\n"
          ],
          "name": "stdout"
        }
      ]
    },
    {
      "cell_type": "code",
      "metadata": {
        "colab": {
          "base_uri": "https://localhost:8080/"
        },
        "id": "kuyGpf3ZdNd8",
        "outputId": "d90f6538-1d9b-4a35-bc44-ec77f18723a9"
      },
      "source": [
        "model_200.compile(optimizer=\"sgd\",loss = 'categorical_crossentropy',metrics = ['accuracy'])\n",
        "history = model_200.fit(x_train,y_train,batch_size=128,epochs = 100,verbose=True,validation_split = .1)\n",
        "\n",
        "lose,accuracy = model_200.evaluate(x_test,y_test,verbose = True)"
      ],
      "execution_count": null,
      "outputs": [
        {
          "output_type": "stream",
          "text": [
            "Epoch 1/100\n",
            "422/422 [==============================] - 2s 5ms/step - loss: 1.4007 - accuracy: 0.5980 - val_loss: 0.5012 - val_accuracy: 0.8940\n",
            "Epoch 2/100\n",
            "422/422 [==============================] - 2s 5ms/step - loss: 0.5197 - accuracy: 0.8759 - val_loss: 0.3566 - val_accuracy: 0.9155\n",
            "Epoch 3/100\n",
            "422/422 [==============================] - 2s 5ms/step - loss: 0.3983 - accuracy: 0.8961 - val_loss: 0.2976 - val_accuracy: 0.9277\n",
            "Epoch 4/100\n",
            "422/422 [==============================] - 2s 5ms/step - loss: 0.3481 - accuracy: 0.9070 - val_loss: 0.2647 - val_accuracy: 0.9325\n",
            "Epoch 5/100\n",
            "422/422 [==============================] - 2s 5ms/step - loss: 0.3107 - accuracy: 0.9168 - val_loss: 0.2503 - val_accuracy: 0.9330\n",
            "Epoch 6/100\n",
            "422/422 [==============================] - 2s 5ms/step - loss: 0.2819 - accuracy: 0.9245 - val_loss: 0.2339 - val_accuracy: 0.9360\n",
            "Epoch 7/100\n",
            "422/422 [==============================] - 2s 5ms/step - loss: 0.2617 - accuracy: 0.9308 - val_loss: 0.2181 - val_accuracy: 0.9443\n",
            "Epoch 8/100\n",
            "422/422 [==============================] - 2s 5ms/step - loss: 0.2500 - accuracy: 0.9319 - val_loss: 0.2090 - val_accuracy: 0.9447\n",
            "Epoch 9/100\n",
            "422/422 [==============================] - 2s 5ms/step - loss: 0.2330 - accuracy: 0.9372 - val_loss: 0.2021 - val_accuracy: 0.9470\n",
            "Epoch 10/100\n",
            "422/422 [==============================] - 2s 6ms/step - loss: 0.2246 - accuracy: 0.9393 - val_loss: 0.1900 - val_accuracy: 0.9497\n",
            "Epoch 11/100\n",
            "422/422 [==============================] - 2s 5ms/step - loss: 0.2170 - accuracy: 0.9423 - val_loss: 0.1882 - val_accuracy: 0.9498\n",
            "Epoch 12/100\n",
            "422/422 [==============================] - 2s 5ms/step - loss: 0.2059 - accuracy: 0.9447 - val_loss: 0.1807 - val_accuracy: 0.9537\n",
            "Epoch 13/100\n",
            "422/422 [==============================] - 2s 5ms/step - loss: 0.1925 - accuracy: 0.9486 - val_loss: 0.1782 - val_accuracy: 0.9520\n",
            "Epoch 14/100\n",
            "422/422 [==============================] - 2s 5ms/step - loss: 0.1867 - accuracy: 0.9493 - val_loss: 0.1732 - val_accuracy: 0.9537\n",
            "Epoch 15/100\n",
            "422/422 [==============================] - 2s 5ms/step - loss: 0.1848 - accuracy: 0.9502 - val_loss: 0.1669 - val_accuracy: 0.9553\n",
            "Epoch 16/100\n",
            "422/422 [==============================] - 2s 5ms/step - loss: 0.1730 - accuracy: 0.9526 - val_loss: 0.1632 - val_accuracy: 0.9570\n",
            "Epoch 17/100\n",
            "422/422 [==============================] - 2s 5ms/step - loss: 0.1715 - accuracy: 0.9543 - val_loss: 0.1601 - val_accuracy: 0.9582\n",
            "Epoch 18/100\n",
            "422/422 [==============================] - 2s 5ms/step - loss: 0.1676 - accuracy: 0.9549 - val_loss: 0.1554 - val_accuracy: 0.9602\n",
            "Epoch 19/100\n",
            "422/422 [==============================] - 2s 5ms/step - loss: 0.1605 - accuracy: 0.9568 - val_loss: 0.1549 - val_accuracy: 0.9588\n",
            "Epoch 20/100\n",
            "422/422 [==============================] - 2s 5ms/step - loss: 0.1566 - accuracy: 0.9565 - val_loss: 0.1542 - val_accuracy: 0.9580\n",
            "Epoch 21/100\n",
            "422/422 [==============================] - 2s 5ms/step - loss: 0.1501 - accuracy: 0.9603 - val_loss: 0.1480 - val_accuracy: 0.9592\n",
            "Epoch 22/100\n",
            "422/422 [==============================] - 2s 5ms/step - loss: 0.1490 - accuracy: 0.9598 - val_loss: 0.1455 - val_accuracy: 0.9633\n",
            "Epoch 23/100\n",
            "422/422 [==============================] - 2s 5ms/step - loss: 0.1430 - accuracy: 0.9622 - val_loss: 0.1438 - val_accuracy: 0.9612\n",
            "Epoch 24/100\n",
            "422/422 [==============================] - 2s 5ms/step - loss: 0.1368 - accuracy: 0.9632 - val_loss: 0.1439 - val_accuracy: 0.9608\n",
            "Epoch 25/100\n",
            "422/422 [==============================] - 2s 5ms/step - loss: 0.1365 - accuracy: 0.9640 - val_loss: 0.1422 - val_accuracy: 0.9612\n",
            "Epoch 26/100\n",
            "422/422 [==============================] - 2s 5ms/step - loss: 0.1371 - accuracy: 0.9632 - val_loss: 0.1444 - val_accuracy: 0.9597\n",
            "Epoch 27/100\n",
            "422/422 [==============================] - 2s 5ms/step - loss: 0.1301 - accuracy: 0.9653 - val_loss: 0.1373 - val_accuracy: 0.9632\n",
            "Epoch 28/100\n",
            "422/422 [==============================] - 2s 5ms/step - loss: 0.1268 - accuracy: 0.9668 - val_loss: 0.1354 - val_accuracy: 0.9637\n",
            "Epoch 29/100\n",
            "422/422 [==============================] - 2s 5ms/step - loss: 0.1210 - accuracy: 0.9681 - val_loss: 0.1326 - val_accuracy: 0.9643\n",
            "Epoch 30/100\n",
            "422/422 [==============================] - 2s 5ms/step - loss: 0.1174 - accuracy: 0.9693 - val_loss: 0.1305 - val_accuracy: 0.9648\n",
            "Epoch 31/100\n",
            "422/422 [==============================] - 2s 5ms/step - loss: 0.1142 - accuracy: 0.9713 - val_loss: 0.1312 - val_accuracy: 0.9640\n",
            "Epoch 32/100\n",
            "422/422 [==============================] - 2s 5ms/step - loss: 0.1126 - accuracy: 0.9705 - val_loss: 0.1307 - val_accuracy: 0.9637\n",
            "Epoch 33/100\n",
            "422/422 [==============================] - 2s 5ms/step - loss: 0.1138 - accuracy: 0.9697 - val_loss: 0.1291 - val_accuracy: 0.9643\n",
            "Epoch 34/100\n",
            "422/422 [==============================] - 2s 5ms/step - loss: 0.1075 - accuracy: 0.9718 - val_loss: 0.1264 - val_accuracy: 0.9657\n",
            "Epoch 35/100\n",
            "422/422 [==============================] - 2s 5ms/step - loss: 0.1076 - accuracy: 0.9730 - val_loss: 0.1281 - val_accuracy: 0.9662\n",
            "Epoch 36/100\n",
            "422/422 [==============================] - 2s 5ms/step - loss: 0.1059 - accuracy: 0.9734 - val_loss: 0.1255 - val_accuracy: 0.9655\n",
            "Epoch 37/100\n",
            "422/422 [==============================] - 2s 5ms/step - loss: 0.1014 - accuracy: 0.9745 - val_loss: 0.1261 - val_accuracy: 0.9672\n",
            "Epoch 38/100\n",
            "422/422 [==============================] - 2s 5ms/step - loss: 0.1000 - accuracy: 0.9755 - val_loss: 0.1255 - val_accuracy: 0.9647\n",
            "Epoch 39/100\n",
            "422/422 [==============================] - 2s 5ms/step - loss: 0.0985 - accuracy: 0.9747 - val_loss: 0.1223 - val_accuracy: 0.9675\n",
            "Epoch 40/100\n",
            "422/422 [==============================] - 2s 5ms/step - loss: 0.0977 - accuracy: 0.9747 - val_loss: 0.1217 - val_accuracy: 0.9650\n",
            "Epoch 41/100\n",
            "422/422 [==============================] - 2s 5ms/step - loss: 0.0945 - accuracy: 0.9767 - val_loss: 0.1235 - val_accuracy: 0.9672\n",
            "Epoch 42/100\n",
            "422/422 [==============================] - 2s 5ms/step - loss: 0.0921 - accuracy: 0.9771 - val_loss: 0.1204 - val_accuracy: 0.9662\n",
            "Epoch 43/100\n",
            "422/422 [==============================] - 2s 6ms/step - loss: 0.0909 - accuracy: 0.9769 - val_loss: 0.1217 - val_accuracy: 0.9645\n",
            "Epoch 44/100\n",
            "422/422 [==============================] - 2s 5ms/step - loss: 0.0903 - accuracy: 0.9781 - val_loss: 0.1196 - val_accuracy: 0.9643\n",
            "Epoch 45/100\n",
            "422/422 [==============================] - 2s 5ms/step - loss: 0.0860 - accuracy: 0.9789 - val_loss: 0.1202 - val_accuracy: 0.9647\n",
            "Epoch 46/100\n",
            "422/422 [==============================] - 2s 5ms/step - loss: 0.0837 - accuracy: 0.9801 - val_loss: 0.1190 - val_accuracy: 0.9662\n",
            "Epoch 47/100\n",
            "422/422 [==============================] - 2s 5ms/step - loss: 0.0840 - accuracy: 0.9795 - val_loss: 0.1177 - val_accuracy: 0.9650\n",
            "Epoch 48/100\n",
            "422/422 [==============================] - 2s 5ms/step - loss: 0.0808 - accuracy: 0.9804 - val_loss: 0.1171 - val_accuracy: 0.9663\n",
            "Epoch 49/100\n",
            "422/422 [==============================] - 2s 6ms/step - loss: 0.0787 - accuracy: 0.9819 - val_loss: 0.1179 - val_accuracy: 0.9665\n",
            "Epoch 50/100\n",
            "422/422 [==============================] - 2s 6ms/step - loss: 0.0771 - accuracy: 0.9813 - val_loss: 0.1174 - val_accuracy: 0.9660\n",
            "Epoch 51/100\n",
            "422/422 [==============================] - 2s 5ms/step - loss: 0.0775 - accuracy: 0.9819 - val_loss: 0.1158 - val_accuracy: 0.9675\n",
            "Epoch 52/100\n",
            "422/422 [==============================] - 3s 6ms/step - loss: 0.0722 - accuracy: 0.9839 - val_loss: 0.1134 - val_accuracy: 0.9673\n",
            "Epoch 53/100\n",
            "422/422 [==============================] - 2s 5ms/step - loss: 0.0724 - accuracy: 0.9826 - val_loss: 0.1146 - val_accuracy: 0.9657\n",
            "Epoch 54/100\n",
            "422/422 [==============================] - 2s 5ms/step - loss: 0.0736 - accuracy: 0.9824 - val_loss: 0.1137 - val_accuracy: 0.9665\n",
            "Epoch 55/100\n",
            "422/422 [==============================] - 2s 5ms/step - loss: 0.0691 - accuracy: 0.9851 - val_loss: 0.1121 - val_accuracy: 0.9673\n",
            "Epoch 56/100\n",
            "422/422 [==============================] - 2s 5ms/step - loss: 0.0677 - accuracy: 0.9852 - val_loss: 0.1121 - val_accuracy: 0.9668\n",
            "Epoch 57/100\n",
            "422/422 [==============================] - 2s 5ms/step - loss: 0.0675 - accuracy: 0.9850 - val_loss: 0.1113 - val_accuracy: 0.9685\n",
            "Epoch 58/100\n",
            "422/422 [==============================] - 2s 5ms/step - loss: 0.0666 - accuracy: 0.9855 - val_loss: 0.1098 - val_accuracy: 0.9682\n",
            "Epoch 59/100\n",
            "422/422 [==============================] - 2s 5ms/step - loss: 0.0627 - accuracy: 0.9867 - val_loss: 0.1099 - val_accuracy: 0.9668\n",
            "Epoch 60/100\n",
            "422/422 [==============================] - 2s 5ms/step - loss: 0.0639 - accuracy: 0.9850 - val_loss: 0.1095 - val_accuracy: 0.9672\n",
            "Epoch 61/100\n",
            "422/422 [==============================] - 2s 5ms/step - loss: 0.0626 - accuracy: 0.9868 - val_loss: 0.1116 - val_accuracy: 0.9680\n",
            "Epoch 62/100\n",
            "422/422 [==============================] - 2s 5ms/step - loss: 0.0634 - accuracy: 0.9856 - val_loss: 0.1124 - val_accuracy: 0.9667\n",
            "Epoch 63/100\n",
            "422/422 [==============================] - 2s 5ms/step - loss: 0.0595 - accuracy: 0.9870 - val_loss: 0.1080 - val_accuracy: 0.9680\n",
            "Epoch 64/100\n",
            "422/422 [==============================] - 2s 5ms/step - loss: 0.0587 - accuracy: 0.9881 - val_loss: 0.1101 - val_accuracy: 0.9683\n",
            "Epoch 65/100\n",
            "422/422 [==============================] - 2s 5ms/step - loss: 0.0542 - accuracy: 0.9886 - val_loss: 0.1084 - val_accuracy: 0.9688\n",
            "Epoch 66/100\n",
            "422/422 [==============================] - 2s 5ms/step - loss: 0.0569 - accuracy: 0.9880 - val_loss: 0.1092 - val_accuracy: 0.9682\n",
            "Epoch 67/100\n",
            "422/422 [==============================] - 2s 5ms/step - loss: 0.0559 - accuracy: 0.9882 - val_loss: 0.1096 - val_accuracy: 0.9683\n",
            "Epoch 68/100\n",
            "422/422 [==============================] - 2s 5ms/step - loss: 0.0548 - accuracy: 0.9886 - val_loss: 0.1094 - val_accuracy: 0.9687\n",
            "Epoch 69/100\n",
            "422/422 [==============================] - 2s 5ms/step - loss: 0.0533 - accuracy: 0.9896 - val_loss: 0.1078 - val_accuracy: 0.9682\n",
            "Epoch 70/100\n",
            "422/422 [==============================] - 2s 5ms/step - loss: 0.0526 - accuracy: 0.9886 - val_loss: 0.1089 - val_accuracy: 0.9683\n",
            "Epoch 71/100\n",
            "422/422 [==============================] - 2s 5ms/step - loss: 0.0532 - accuracy: 0.9891 - val_loss: 0.1077 - val_accuracy: 0.9683\n",
            "Epoch 72/100\n",
            "422/422 [==============================] - 2s 5ms/step - loss: 0.0491 - accuracy: 0.9899 - val_loss: 0.1071 - val_accuracy: 0.9677\n",
            "Epoch 73/100\n",
            "422/422 [==============================] - 2s 6ms/step - loss: 0.0496 - accuracy: 0.9902 - val_loss: 0.1071 - val_accuracy: 0.9680\n",
            "Epoch 74/100\n",
            "422/422 [==============================] - 2s 5ms/step - loss: 0.0462 - accuracy: 0.9913 - val_loss: 0.1068 - val_accuracy: 0.9682\n",
            "Epoch 75/100\n",
            "422/422 [==============================] - 3s 6ms/step - loss: 0.0483 - accuracy: 0.9902 - val_loss: 0.1066 - val_accuracy: 0.9695\n",
            "Epoch 76/100\n",
            "422/422 [==============================] - 3s 6ms/step - loss: 0.0481 - accuracy: 0.9906 - val_loss: 0.1063 - val_accuracy: 0.9693\n",
            "Epoch 77/100\n",
            "422/422 [==============================] - 3s 6ms/step - loss: 0.0472 - accuracy: 0.9902 - val_loss: 0.1061 - val_accuracy: 0.9693\n",
            "Epoch 78/100\n",
            "422/422 [==============================] - 2s 6ms/step - loss: 0.0461 - accuracy: 0.9905 - val_loss: 0.1059 - val_accuracy: 0.9697\n",
            "Epoch 79/100\n",
            "422/422 [==============================] - 3s 6ms/step - loss: 0.0452 - accuracy: 0.9910 - val_loss: 0.1043 - val_accuracy: 0.9697\n",
            "Epoch 80/100\n",
            "422/422 [==============================] - 2s 6ms/step - loss: 0.0455 - accuracy: 0.9903 - val_loss: 0.1047 - val_accuracy: 0.9685\n",
            "Epoch 81/100\n",
            "422/422 [==============================] - 2s 6ms/step - loss: 0.0432 - accuracy: 0.9910 - val_loss: 0.1063 - val_accuracy: 0.9680\n",
            "Epoch 82/100\n",
            "422/422 [==============================] - 2s 6ms/step - loss: 0.0420 - accuracy: 0.9918 - val_loss: 0.1056 - val_accuracy: 0.9697\n",
            "Epoch 83/100\n",
            "422/422 [==============================] - 2s 5ms/step - loss: 0.0446 - accuracy: 0.9903 - val_loss: 0.1055 - val_accuracy: 0.9685\n",
            "Epoch 84/100\n",
            "422/422 [==============================] - 2s 5ms/step - loss: 0.0425 - accuracy: 0.9913 - val_loss: 0.1061 - val_accuracy: 0.9683\n",
            "Epoch 85/100\n",
            "422/422 [==============================] - 2s 5ms/step - loss: 0.0422 - accuracy: 0.9911 - val_loss: 0.1049 - val_accuracy: 0.9690\n",
            "Epoch 86/100\n",
            "422/422 [==============================] - 2s 5ms/step - loss: 0.0423 - accuracy: 0.9914 - val_loss: 0.1061 - val_accuracy: 0.9683\n",
            "Epoch 87/100\n",
            "422/422 [==============================] - 2s 5ms/step - loss: 0.0420 - accuracy: 0.9911 - val_loss: 0.1059 - val_accuracy: 0.9692\n",
            "Epoch 88/100\n",
            "422/422 [==============================] - 2s 5ms/step - loss: 0.0396 - accuracy: 0.9919 - val_loss: 0.1052 - val_accuracy: 0.9685\n",
            "Epoch 89/100\n",
            "422/422 [==============================] - 2s 5ms/step - loss: 0.0396 - accuracy: 0.9918 - val_loss: 0.1060 - val_accuracy: 0.9678\n",
            "Epoch 90/100\n",
            "422/422 [==============================] - 2s 5ms/step - loss: 0.0399 - accuracy: 0.9920 - val_loss: 0.1052 - val_accuracy: 0.9685\n",
            "Epoch 91/100\n",
            "422/422 [==============================] - 2s 5ms/step - loss: 0.0391 - accuracy: 0.9920 - val_loss: 0.1054 - val_accuracy: 0.9677\n",
            "Epoch 92/100\n",
            "422/422 [==============================] - 2s 5ms/step - loss: 0.0395 - accuracy: 0.9915 - val_loss: 0.1055 - val_accuracy: 0.9677\n",
            "Epoch 93/100\n",
            "422/422 [==============================] - 2s 5ms/step - loss: 0.0373 - accuracy: 0.9924 - val_loss: 0.1052 - val_accuracy: 0.9688\n",
            "Epoch 94/100\n",
            "422/422 [==============================] - 2s 5ms/step - loss: 0.0352 - accuracy: 0.9928 - val_loss: 0.1048 - val_accuracy: 0.9677\n",
            "Epoch 95/100\n",
            "422/422 [==============================] - 2s 5ms/step - loss: 0.0373 - accuracy: 0.9923 - val_loss: 0.1053 - val_accuracy: 0.9688\n",
            "Epoch 96/100\n",
            "422/422 [==============================] - 2s 5ms/step - loss: 0.0384 - accuracy: 0.9920 - val_loss: 0.1043 - val_accuracy: 0.9683\n",
            "Epoch 97/100\n",
            "422/422 [==============================] - 2s 5ms/step - loss: 0.0368 - accuracy: 0.9920 - val_loss: 0.1044 - val_accuracy: 0.9687\n",
            "Epoch 98/100\n",
            "422/422 [==============================] - 2s 5ms/step - loss: 0.0349 - accuracy: 0.9930 - val_loss: 0.1051 - val_accuracy: 0.9687\n",
            "Epoch 99/100\n",
            "422/422 [==============================] - 2s 5ms/step - loss: 0.0355 - accuracy: 0.9933 - val_loss: 0.1044 - val_accuracy: 0.9690\n",
            "Epoch 100/100\n",
            "422/422 [==============================] - 2s 5ms/step - loss: 0.0351 - accuracy: 0.9929 - val_loss: 0.1042 - val_accuracy: 0.9675\n",
            "313/313 [==============================] - 1s 2ms/step - loss: 0.1227 - accuracy: 0.9635\n"
          ],
          "name": "stdout"
        }
      ]
    },
    {
      "cell_type": "code",
      "metadata": {
        "colab": {
          "base_uri": "https://localhost:8080/",
          "height": 295
        },
        "id": "saPxl-tOdTt3",
        "outputId": "32275b39-7fc0-4939-b1e4-23ccd6b402a4"
      },
      "source": [
        "plt.plot(history.history['accuracy'])\n",
        "plt.plot(history.history['val_accuracy'])\n",
        "plt.title('model 200 accuracy')\n",
        "plt.ylabel('accuracy')\n",
        "plt.xlabel('epoch')\n",
        "plt.legend(['training','validation'],loc='best')\n",
        "plt.show()"
      ],
      "execution_count": null,
      "outputs": [
        {
          "output_type": "display_data",
          "data": {
            "image/png": "[encoded data removed]",
            "text/plain": [
              "<Figure size 432x288 with 1 Axes>"
            ]
          },
          "metadata": {
            "tags": [],
            "needs_background": "light"
          }
        }
      ]
    },
    {
      "cell_type": "markdown",
      "metadata": {
        "id": "YsbG4-nkeGyx"
      },
      "source": [
        "# Layer with 500 Neurons"
      ]
    },
    {
      "cell_type": "code",
      "metadata": {
        "colab": {
          "base_uri": "https://localhost:8080/"
        },
        "id": "dNTL7zZheJNa",
        "outputId": "6901d88c-a185-4542-df46-5e0cff4dfdd5"
      },
      "source": [
        "model_500 = Sequential() # feed forward - backward propagate\n",
        "# eager execution enabled - session online\n",
        "\n",
        "model_500.add(Dense(units = 500,activation = 'sigmoid',input_shape=(image_size,))) \n",
        "model_500.add(Dense(units=num_classes,activation='softmax'))\n",
        "model_500.summary()"
      ],
      "execution_count": null,
      "outputs": [
        {
          "output_type": "stream",
          "text": [
            "Model: \"sequential_5\"\n",
            "_________________________________________________________________\n",
            "Layer (type)                 Output Shape              Param #   \n",
            "=================================================================\n",
            "dense_10 (Dense)             (None, 500)               392500    \n",
            "_________________________________________________________________\n",
            "dense_11 (Dense)             (None, 10)                5010      \n",
            "=================================================================\n",
            "Total params: 397,510\n",
            "Trainable params: 397,510\n",
            "Non-trainable params: 0\n",
            "_________________________________________________________________\n"
          ],
          "name": "stdout"
        }
      ]
    },
    {
      "cell_type": "code",
      "metadata": {
        "colab": {
          "base_uri": "https://localhost:8080/"
        },
        "id": "vvaxCNWyeLo-",
        "outputId": "dc00d238-d491-4fb2-c277-02f7136ec399"
      },
      "source": [
        "model_500.compile(optimizer=\"sgd\",loss = 'categorical_crossentropy',metrics = ['accuracy'])\n",
        "history = model_500.fit(x_train,y_train,batch_size=128,epochs = 10,verbose=True,validation_split = .1) # epochs chaged to 10\n",
        "\n",
        "lose,accuracy = model_500.evaluate(x_test,y_test,verbose = True)"
      ],
      "execution_count": null,
      "outputs": [
        {
          "output_type": "stream",
          "text": [
            "Epoch 1/10\n",
            "422/422 [==============================] - 4s 9ms/step - loss: 0.3428 - accuracy: 0.9097 - val_loss: 0.2617 - val_accuracy: 0.9310\n",
            "Epoch 2/10\n",
            "422/422 [==============================] - 4s 10ms/step - loss: 0.2916 - accuracy: 0.9223 - val_loss: 0.2358 - val_accuracy: 0.9373\n",
            "Epoch 3/10\n",
            "422/422 [==============================] - 4s 9ms/step - loss: 0.2598 - accuracy: 0.9295 - val_loss: 0.2155 - val_accuracy: 0.9432\n",
            "Epoch 4/10\n",
            "422/422 [==============================] - 4s 8ms/step - loss: 0.2362 - accuracy: 0.9360 - val_loss: 0.2001 - val_accuracy: 0.9480\n",
            "Epoch 5/10\n",
            "422/422 [==============================] - 3s 8ms/step - loss: 0.2174 - accuracy: 0.9417 - val_loss: 0.1889 - val_accuracy: 0.9493\n",
            "Epoch 6/10\n",
            "422/422 [==============================] - 3s 8ms/step - loss: 0.1944 - accuracy: 0.9486 - val_loss: 0.1836 - val_accuracy: 0.9507\n",
            "Epoch 7/10\n",
            "422/422 [==============================] - 3s 8ms/step - loss: 0.1899 - accuracy: 0.9500 - val_loss: 0.1738 - val_accuracy: 0.9535\n",
            "Epoch 8/10\n",
            "422/422 [==============================] - 4s 9ms/step - loss: 0.1739 - accuracy: 0.9552 - val_loss: 0.1691 - val_accuracy: 0.9550\n",
            "Epoch 9/10\n",
            "422/422 [==============================] - 3s 8ms/step - loss: 0.1677 - accuracy: 0.9554 - val_loss: 0.1629 - val_accuracy: 0.9560\n",
            "Epoch 10/10\n",
            "422/422 [==============================] - 3s 8ms/step - loss: 0.1619 - accuracy: 0.9572 - val_loss: 0.1559 - val_accuracy: 0.9570\n",
            "313/313 [==============================] - 1s 3ms/step - loss: 0.1791 - accuracy: 0.9496\n"
          ],
          "name": "stdout"
        }
      ]
    },
    {
      "cell_type": "code",
      "metadata": {
        "colab": {
          "base_uri": "https://localhost:8080/",
          "height": 295
        },
        "id": "F8AOGI2zeN6h",
        "outputId": "72062e92-86c0-4439-8613-f8acaf8e7ca5"
      },
      "source": [
        "plt.plot(history.history['accuracy'])\n",
        "plt.plot(history.history['val_accuracy'])\n",
        "plt.title('model 500 accuracy')\n",
        "plt.ylabel('accuracy')\n",
        "plt.xlabel('epoch')\n",
        "plt.legend(['training','validation'],loc='best')\n",
        "plt.show()"
      ],
      "execution_count": null,
      "outputs": [
        {
          "output_type": "display_data",
          "data": {
            "image/png": "[encoded data removed]",
            "text/plain": [
              "<Figure size 432x288 with 1 Axes>"
            ]
          },
          "metadata": {
            "tags": [],
            "needs_background": "light"
          }
        }
      ]
    },
    {
      "cell_type": "markdown",
      "metadata": {
        "id": "PJ1OCqmcgE_0"
      },
      "source": [
        "# Layer with 1000 Neurons"
      ]
    },
    {
      "cell_type": "code",
      "metadata": {
        "colab": {
          "base_uri": "https://localhost:8080/"
        },
        "id": "NE-k8QoxgQFk",
        "outputId": "fda735f0-2518-4f29-d0ed-aae973bc1fa1"
      },
      "source": [
        "model_1000 = Sequential() # feed forward - backward propagate\n",
        "# eager execution enabled - session online\n",
        "\n",
        "model_1000.add(Dense(units = 1000,activation = 'sigmoid',input_shape=(image_size,))) \n",
        "model_1000.add(Dense(units=num_classes,activation='softmax'))\n",
        "model_1000.summary()"
      ],
      "execution_count": null,
      "outputs": [
        {
          "output_type": "stream",
          "text": [
            "Model: \"sequential_6\"\n",
            "_________________________________________________________________\n",
            "Layer (type)                 Output Shape              Param #   \n",
            "=================================================================\n",
            "dense_12 (Dense)             (None, 1000)              785000    \n",
            "_________________________________________________________________\n",
            "dense_13 (Dense)             (None, 10)                10010     \n",
            "=================================================================\n",
            "Total params: 795,010\n",
            "Trainable params: 795,010\n",
            "Non-trainable params: 0\n",
            "_________________________________________________________________\n"
          ],
          "name": "stdout"
        }
      ]
    },
    {
      "cell_type": "code",
      "metadata": {
        "colab": {
          "base_uri": "https://localhost:8080/"
        },
        "id": "L2Ken_2RgWP6",
        "outputId": "3f121332-ab09-461d-e346-af9973d5b57a"
      },
      "source": [
        "model_1000.compile(optimizer=\"sgd\",loss = 'categorical_crossentropy',metrics = ['accuracy'])\n",
        "history = model_1000.fit(x_train,y_train,batch_size=128,epochs = 5,verbose=True,validation_split = .1) # epochs chaged to 10\n",
        "\n",
        "lose,accuracy = model_1000.evaluate(x_test,y_test,verbose = True)"
      ],
      "execution_count": null,
      "outputs": [
        {
          "output_type": "stream",
          "text": [
            "Epoch 1/5\n",
            "422/422 [==============================] - 6s 14ms/step - loss: 0.9632 - accuracy: 0.7288 - val_loss: 0.3095 - val_accuracy: 0.9220\n",
            "Epoch 2/5\n",
            "422/422 [==============================] - 6s 13ms/step - loss: 0.3373 - accuracy: 0.9094 - val_loss: 0.2435 - val_accuracy: 0.9372\n",
            "Epoch 3/5\n",
            "422/422 [==============================] - 6s 13ms/step - loss: 0.2729 - accuracy: 0.9258 - val_loss: 0.2100 - val_accuracy: 0.9445\n",
            "Epoch 4/5\n",
            "422/422 [==============================] - 6s 13ms/step - loss: 0.2311 - accuracy: 0.9383 - val_loss: 0.1919 - val_accuracy: 0.9520\n",
            "Epoch 5/5\n",
            "422/422 [==============================] - 6s 15ms/step - loss: 0.2032 - accuracy: 0.9463 - val_loss: 0.1784 - val_accuracy: 0.9538\n",
            "313/313 [==============================] - 1s 5ms/step - loss: 0.2104 - accuracy: 0.9418\n"
          ],
          "name": "stdout"
        }
      ]
    },
    {
      "cell_type": "code",
      "metadata": {
        "colab": {
          "base_uri": "https://localhost:8080/",
          "height": 295
        },
        "id": "8lYnWTAUggeV",
        "outputId": "e8dce060-8732-45e9-84ed-9492e5195feb"
      },
      "source": [
        "plt.plot(history.history['accuracy'])\n",
        "plt.plot(history.history['val_accuracy'])\n",
        "plt.title('model 1000 accuracy')\n",
        "plt.ylabel('accuracy')\n",
        "plt.xlabel('epoch')\n",
        "plt.legend(['training','validation'],loc='best')\n",
        "plt.show()"
      ],
      "execution_count": null,
      "outputs": [
        {
          "output_type": "display_data",
          "data": {
            "image/png": "[encoded data removed]",
            "text/plain": [
              "<Figure size 432x288 with 1 Axes>"
            ]
          },
          "metadata": {
            "tags": [],
            "needs_background": "light"
          }
        }
      ]
    },
    {
      "cell_type": "markdown",
      "metadata": {
        "id": "QUt-7nJQgHnt"
      },
      "source": [
        "# Layer with 10000 Neurons"
      ]
    },
    {
      "cell_type": "code",
      "metadata": {
        "colab": {
          "base_uri": "https://localhost:8080/"
        },
        "id": "N8NBVt09grf1",
        "outputId": "c8de8379-7c99-47ac-9e86-3b9f2e09c3d2"
      },
      "source": [
        "model_10000 = Sequential() # feed forward - backward propagate\n",
        "# eager execution enabled - session online\n",
        "\n",
        "model_10000.add(Dense(units = 10000,activation = 'sigmoid',input_shape=(image_size,))) \n",
        "model_10000.add(Dense(units=num_classes,activation='softmax'))\n",
        "model_10000.summary()"
      ],
      "execution_count": null,
      "outputs": [
        {
          "output_type": "stream",
          "text": [
            "Model: \"sequential_7\"\n",
            "_________________________________________________________________\n",
            "Layer (type)                 Output Shape              Param #   \n",
            "=================================================================\n",
            "dense_14 (Dense)             (None, 10000)             7850000   \n",
            "_________________________________________________________________\n",
            "dense_15 (Dense)             (None, 10)                100010    \n",
            "=================================================================\n",
            "Total params: 7,950,010\n",
            "Trainable params: 7,950,010\n",
            "Non-trainable params: 0\n",
            "_________________________________________________________________\n"
          ],
          "name": "stdout"
        }
      ]
    },
    {
      "cell_type": "code",
      "metadata": {
        "colab": {
          "base_uri": "https://localhost:8080/"
        },
        "id": "pDrvO5WFgxL-",
        "outputId": "81d5ad6f-0acb-4c64-86c9-2baa43725350"
      },
      "source": [
        "model_10000.compile(optimizer=\"sgd\",loss = 'categorical_crossentropy',metrics = ['accuracy'])\n",
        "history = model_10000.fit(x_train,y_train,batch_size=128,epochs = 5,verbose=True,validation_split = .1) # epochs chaged to 10\n",
        "\n",
        "lose,accuracy = model_10000.evaluate(x_test,y_test,verbose = True)"
      ],
      "execution_count": null,
      "outputs": [
        {
          "output_type": "stream",
          "text": [
            "Epoch 1/5\n",
            "422/422 [==============================] - 42s 98ms/step - loss: 0.7909 - accuracy: 0.8151 - val_loss: 0.1604 - val_accuracy: 0.9577\n",
            "Epoch 2/5\n",
            "422/422 [==============================] - 40s 95ms/step - loss: 0.1507 - accuracy: 0.9612 - val_loss: 0.1320 - val_accuracy: 0.9640\n",
            "Epoch 3/5\n",
            "422/422 [==============================] - 40s 95ms/step - loss: 0.0917 - accuracy: 0.9815 - val_loss: 0.1139 - val_accuracy: 0.9682\n",
            "Epoch 4/5\n",
            "422/422 [==============================] - 40s 95ms/step - loss: 0.0636 - accuracy: 0.9897 - val_loss: 0.1061 - val_accuracy: 0.9703\n",
            "Epoch 5/5\n",
            "422/422 [==============================] - 40s 94ms/step - loss: 0.0435 - accuracy: 0.9955 - val_loss: 0.0995 - val_accuracy: 0.9735\n",
            "313/313 [==============================] - 5s 15ms/step - loss: 0.1191 - accuracy: 0.9637\n"
          ],
          "name": "stdout"
        }
      ]
    },
    {
      "cell_type": "code",
      "metadata": {
        "colab": {
          "base_uri": "https://localhost:8080/",
          "height": 295
        },
        "id": "eGXrlFiGg7Ez",
        "outputId": "496f80c2-b939-4ef1-f1c1-f6a7282c886d"
      },
      "source": [
        "plt.plot(history.history['accuracy'])\n",
        "plt.plot(history.history['val_accuracy'])\n",
        "plt.title('model 10000 accuracy')\n",
        "plt.ylabel('accuracy')\n",
        "plt.xlabel('epoch')\n",
        "plt.legend(['training','validation'],loc='best')\n",
        "plt.show()"
      ],
      "execution_count": null,
      "outputs": [
        {
          "output_type": "display_data",
          "data": {
            "image/png": "[encoded data removed]",
            "text/plain": [
              "<Figure size 432x288 with 1 Axes>"
            ]
          },
          "metadata": {
            "tags": [],
            "needs_background": "light"
          }
        }
      ]
    },
    {
      "cell_type": "markdown",
      "metadata": {
        "id": "1K39FyFBgKJv"
      },
      "source": [
        "# Layer with 1,00,000 Neurons"
      ]
    },
    {
      "cell_type": "code",
      "metadata": {
        "colab": {
          "base_uri": "https://localhost:8080/"
        },
        "id": "01QIzRxtgNHv",
        "outputId": "f0574697-1f1a-49d1-f48a-911036229561"
      },
      "source": [
        "model_100000 = Sequential() # feed forward - backward propagate\n",
        "# eager execution enabled - session online\n",
        "\n",
        "model_100000.add(Dense(units = 100000,activation = 'sigmoid',input_shape=(image_size,))) \n",
        "model_100000.add(Dense(units=num_classes,activation='softmax'))\n",
        "model_100000.summary()"
      ],
      "execution_count": null,
      "outputs": [
        {
          "output_type": "stream",
          "text": [
            "Model: \"sequential_8\"\n",
            "_________________________________________________________________\n",
            "Layer (type)                 Output Shape              Param #   \n",
            "=================================================================\n",
            "dense_16 (Dense)             (None, 100000)            78500000  \n",
            "_________________________________________________________________\n",
            "dense_17 (Dense)             (None, 10)                1000010   \n",
            "=================================================================\n",
            "Total params: 79,500,010\n",
            "Trainable params: 79,500,010\n",
            "Non-trainable params: 0\n",
            "_________________________________________________________________\n"
          ],
          "name": "stdout"
        }
      ]
    },
    {
      "cell_type": "code",
      "metadata": {
        "colab": {
          "base_uri": "https://localhost:8080/"
        },
        "id": "SAhezncohC7S",
        "outputId": "761fe157-abcc-4c51-9a36-caf5bf15f06f"
      },
      "source": [
        "model_100000.compile(optimizer=\"sgd\",loss = 'categorical_crossentropy',metrics = ['accuracy'])\n",
        "history = model_100000.fit(x_train,y_train,batch_size=128,epochs = 2,verbose=True,validation_split = .1) # epochs chaged to 10\n",
        "\n",
        "lose,accuracy = model_100000.evaluate(x_test,y_test,verbose = True)"
      ],
      "execution_count": null,
      "outputs": [
        {
          "output_type": "stream",
          "text": [
            "Epoch 1/2\n",
            "422/422 [==============================] - 374s 886ms/step - loss: 5.3072 - accuracy: 0.8224 - val_loss: 0.1207 - val_accuracy: 0.9677\n",
            "Epoch 2/2\n",
            "183/422 [============>.................] - ETA: 3:21 - loss: 0.0597 - accuracy: 0.9848"
          ],
          "name": "stdout"
        }
      ]
    }
  ]
}