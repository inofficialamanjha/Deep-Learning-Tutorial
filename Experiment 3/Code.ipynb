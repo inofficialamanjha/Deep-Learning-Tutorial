{
  "nbformat": 4,
  "nbformat_minor": 0,
  "metadata": {
    "colab": {
      "name": "28_01_2021_Aman_Jha_2k18_IT_018.ipynb",
      "provenance": []
    },
    "kernelspec": {
      "name": "python3",
      "display_name": "Python 3"
    },
    "accelerator": "TPU"
  },
  "cells": [
    {
      "cell_type": "code",
      "metadata": {
        "id": "aymB5wVlZ2Ka"
      },
      "source": [
        "import matplotlib.pyplot as py\n",
        "import seaborn as sns\n",
        "import numpy as np\n",
        "from sklearn.metrics import confusion_matrix\n",
        "\n",
        "import keras\n",
        "from keras.datasets import mnist\n",
        "from keras.layers import Dense\n",
        "from keras.models import Sequential\n",
        "from matplotlib import pyplot as plt\n",
        "from random import randint"
      ],
      "execution_count": null,
      "outputs": []
    },
    {
      "cell_type": "code",
      "metadata": {
        "colab": {
          "base_uri": "https://localhost:8080/"
        },
        "id": "nn1-_zWsauBj",
        "outputId": "24c6c631-ad2b-4322-ff77-c967066aaf8f"
      },
      "source": [
        "# Preparing the dataset\n",
        "# Setup train and test splits\n",
        "\n",
        "(x_train, y_train),(x_test,y_test) = mnist.load_data()"
      ],
      "execution_count": null,
      "outputs": [
        {
          "output_type": "stream",
          "text": [
            "Downloading data from https://storage.googleapis.com/tensorflow/tf-keras-datasets/mnist.npz\n",
            "11493376/11490434 [==============================] - 0s 0us/step\n"
          ],
          "name": "stdout"
        }
      ]
    },
    {
      "cell_type": "code",
      "metadata": {
        "colab": {
          "base_uri": "https://localhost:8080/"
        },
        "id": "kHsuqhT4bCLI",
        "outputId": "3d60d97e-911e-49e0-d619-7019ceffe35d"
      },
      "source": [
        "x_train_drawing = x_train\n",
        "print(\"X_Train\",x_train[0],\"\\n\\n\",\"y_train\",y_train[0])"
      ],
      "execution_count": null,
      "outputs": [
        {
          "output_type": "stream",
          "text": [
            "X_Train [[  0   0   0   0   0   0   0   0   0   0   0   0   0   0   0   0   0   0\n",
            "    0   0   0   0   0   0   0   0   0   0]\n",
            " [  0   0   0   0   0   0   0   0   0   0   0   0   0   0   0   0   0   0\n",
            "    0   0   0   0   0   0   0   0   0   0]\n",
            " [  0   0   0   0   0   0   0   0   0   0   0   0   0   0   0   0   0   0\n",
            "    0   0   0   0   0   0   0   0   0   0]\n",
            " [  0   0   0   0   0   0   0   0   0   0   0   0   0   0   0   0   0   0\n",
            "    0   0   0   0   0   0   0   0   0   0]\n",
            " [  0   0   0   0   0   0   0   0   0   0   0   0   0   0   0   0   0   0\n",
            "    0   0   0   0   0   0   0   0   0   0]\n",
            " [  0   0   0   0   0   0   0   0   0   0   0   0   3  18  18  18 126 136\n",
            "  175  26 166 255 247 127   0   0   0   0]\n",
            " [  0   0   0   0   0   0   0   0  30  36  94 154 170 253 253 253 253 253\n",
            "  225 172 253 242 195  64   0   0   0   0]\n",
            " [  0   0   0   0   0   0   0  49 238 253 253 253 253 253 253 253 253 251\n",
            "   93  82  82  56  39   0   0   0   0   0]\n",
            " [  0   0   0   0   0   0   0  18 219 253 253 253 253 253 198 182 247 241\n",
            "    0   0   0   0   0   0   0   0   0   0]\n",
            " [  0   0   0   0   0   0   0   0  80 156 107 253 253 205  11   0  43 154\n",
            "    0   0   0   0   0   0   0   0   0   0]\n",
            " [  0   0   0   0   0   0   0   0   0  14   1 154 253  90   0   0   0   0\n",
            "    0   0   0   0   0   0   0   0   0   0]\n",
            " [  0   0   0   0   0   0   0   0   0   0   0 139 253 190   2   0   0   0\n",
            "    0   0   0   0   0   0   0   0   0   0]\n",
            " [  0   0   0   0   0   0   0   0   0   0   0  11 190 253  70   0   0   0\n",
            "    0   0   0   0   0   0   0   0   0   0]\n",
            " [  0   0   0   0   0   0   0   0   0   0   0   0  35 241 225 160 108   1\n",
            "    0   0   0   0   0   0   0   0   0   0]\n",
            " [  0   0   0   0   0   0   0   0   0   0   0   0   0  81 240 253 253 119\n",
            "   25   0   0   0   0   0   0   0   0   0]\n",
            " [  0   0   0   0   0   0   0   0   0   0   0   0   0   0  45 186 253 253\n",
            "  150  27   0   0   0   0   0   0   0   0]\n",
            " [  0   0   0   0   0   0   0   0   0   0   0   0   0   0   0  16  93 252\n",
            "  253 187   0   0   0   0   0   0   0   0]\n",
            " [  0   0   0   0   0   0   0   0   0   0   0   0   0   0   0   0   0 249\n",
            "  253 249  64   0   0   0   0   0   0   0]\n",
            " [  0   0   0   0   0   0   0   0   0   0   0   0   0   0  46 130 183 253\n",
            "  253 207   2   0   0   0   0   0   0   0]\n",
            " [  0   0   0   0   0   0   0   0   0   0   0   0  39 148 229 253 253 253\n",
            "  250 182   0   0   0   0   0   0   0   0]\n",
            " [  0   0   0   0   0   0   0   0   0   0  24 114 221 253 253 253 253 201\n",
            "   78   0   0   0   0   0   0   0   0   0]\n",
            " [  0   0   0   0   0   0   0   0  23  66 213 253 253 253 253 198  81   2\n",
            "    0   0   0   0   0   0   0   0   0   0]\n",
            " [  0   0   0   0   0   0  18 171 219 253 253 253 253 195  80   9   0   0\n",
            "    0   0   0   0   0   0   0   0   0   0]\n",
            " [  0   0   0   0  55 172 226 253 253 253 253 244 133  11   0   0   0   0\n",
            "    0   0   0   0   0   0   0   0   0   0]\n",
            " [  0   0   0   0 136 253 253 253 212 135 132  16   0   0   0   0   0   0\n",
            "    0   0   0   0   0   0   0   0   0   0]\n",
            " [  0   0   0   0   0   0   0   0   0   0   0   0   0   0   0   0   0   0\n",
            "    0   0   0   0   0   0   0   0   0   0]\n",
            " [  0   0   0   0   0   0   0   0   0   0   0   0   0   0   0   0   0   0\n",
            "    0   0   0   0   0   0   0   0   0   0]\n",
            " [  0   0   0   0   0   0   0   0   0   0   0   0   0   0   0   0   0   0\n",
            "    0   0   0   0   0   0   0   0   0   0]] \n",
            "\n",
            " y_train 5\n"
          ],
          "name": "stdout"
        }
      ]
    },
    {
      "cell_type": "code",
      "metadata": {
        "colab": {
          "base_uri": "https://localhost:8080/"
        },
        "id": "Eyqqj2w_bVyi",
        "outputId": "3ec23bcf-8928-4c5b-c575-0f0e8c0132b9"
      },
      "source": [
        "print(\"X_Train Shape:\",x_train.shape,\"\\n\\n\",\"y_train Shape:\",y_train.shape)"
      ],
      "execution_count": null,
      "outputs": [
        {
          "output_type": "stream",
          "text": [
            "X_Train Shape: (60000, 28, 28) \n",
            "\n",
            " y_train Shape: (60000,)\n"
          ],
          "name": "stdout"
        }
      ]
    },
    {
      "cell_type": "code",
      "metadata": {
        "id": "TDiGg_Mvb3Sg"
      },
      "source": [
        "image_size = 784 # since its 28 X 28\n",
        "x_train = x_train.reshape(x_train.shape[0],image_size)\n",
        "x_test = x_test.reshape(x_test.shape[0],image_size)"
      ],
      "execution_count": null,
      "outputs": []
    },
    {
      "cell_type": "code",
      "metadata": {
        "id": "eXQLOLJocYP5"
      },
      "source": [
        "num_classes = 10\n",
        "y_train = keras.utils.to_categorical(y_train,num_classes)\n",
        "y_test = keras.utils.to_categorical(y_test,num_classes)"
      ],
      "execution_count": null,
      "outputs": []
    },
    {
      "cell_type": "code",
      "metadata": {
        "colab": {
          "base_uri": "https://localhost:8080/"
        },
        "id": "OB12kZ5Ecodi",
        "outputId": "75b4db0b-f62f-4e80-d8c1-768ff5e46f93"
      },
      "source": [
        "print(y_train.shape)\n",
        "print(y_train[0]) # one-hot form"
      ],
      "execution_count": null,
      "outputs": [
        {
          "output_type": "stream",
          "text": [
            "(60000, 10)\n",
            "[0. 0. 0. 0. 0. 1. 0. 0. 0. 0.]\n"
          ],
          "name": "stdout"
        }
      ]
    },
    {
      "cell_type": "code",
      "metadata": {
        "colab": {
          "base_uri": "https://localhost:8080/",
          "height": 248
        },
        "id": "W7W4_9v8csP6",
        "outputId": "9f013df3-929d-489f-b72f-75da91366f98"
      },
      "source": [
        "for i in range(64) :\n",
        "\n",
        "  ax = plt.subplot(8,8,i+1)\n",
        "  ax.axis('off')\n",
        "  plt.imshow(x_train_drawing[randint(0,x_train.shape[0])],cmap = 'Greys')"
      ],
      "execution_count": null,
      "outputs": [
        {
          "output_type": "display_data",
          "data": {
            "image/png": "[encoded data removed]",
            "text/plain": [
              "<Figure size 432x288 with 64 Axes>"
            ]
          },
          "metadata": {
            "tags": [],
            "needs_background": "light"
          }
        }
      ]
    },
    {
      "cell_type": "code",
      "metadata": {
        "colab": {
          "base_uri": "https://localhost:8080/"
        },
        "id": "MOnI29JJdIvq",
        "outputId": "b16f2403-344a-4163-8652-d67704bc5b84"
      },
      "source": [
        "model = Sequential() # feed forward - backward propagate\n",
        "# eager execution enabled - session online\n",
        "\n",
        "model.add(Dense(units = 100,activation = 'sigmoid',input_shape=(image_size,))) \n",
        "model.add(Dense(units=100,activation='sigmoid'))\n",
        "model.add(Dense(units=num_classes,activation='softmax'))\n",
        "model.summary()"
      ],
      "execution_count": null,
      "outputs": [
        {
          "output_type": "stream",
          "text": [
            "Model: \"sequential\"\n",
            "_________________________________________________________________\n",
            "Layer (type)                 Output Shape              Param #   \n",
            "=================================================================\n",
            "dense (Dense)                (None, 100)               78500     \n",
            "_________________________________________________________________\n",
            "dense_1 (Dense)              (None, 100)               10100     \n",
            "_________________________________________________________________\n",
            "dense_2 (Dense)              (None, 10)                1010      \n",
            "=================================================================\n",
            "Total params: 89,610\n",
            "Trainable params: 89,610\n",
            "Non-trainable params: 0\n",
            "_________________________________________________________________\n"
          ],
          "name": "stdout"
        }
      ]
    },
    {
      "cell_type": "code",
      "metadata": {
        "colab": {
          "base_uri": "https://localhost:8080/"
        },
        "id": "pxl1TsGzeM_R",
        "outputId": "50ee33f0-8d8f-4326-c66a-690c13232d12"
      },
      "source": [
        "model.compile(optimizer=\"sgd\",loss = 'categorical_crossentropy',metrics = ['accuracy'])\n",
        "history = model.fit(x_train,y_train,batch_size=128,epochs = 100,verbose=True,validation_split = .1)"
      ],
      "execution_count": null,
      "outputs": [
        {
          "output_type": "stream",
          "text": [
            "Epoch 1/100\n",
            "422/422 [==============================] - 3s 6ms/step - loss: 2.1789 - accuracy: 0.3186 - val_loss: 1.7216 - val_accuracy: 0.6870\n",
            "Epoch 2/100\n",
            "422/422 [==============================] - 2s 5ms/step - loss: 1.6240 - accuracy: 0.6895 - val_loss: 1.2553 - val_accuracy: 0.8072\n",
            "Epoch 3/100\n",
            "422/422 [==============================] - 2s 5ms/step - loss: 1.2057 - accuracy: 0.7866 - val_loss: 0.9326 - val_accuracy: 0.8582\n",
            "Epoch 4/100\n",
            "422/422 [==============================] - 2s 4ms/step - loss: 0.9251 - accuracy: 0.8356 - val_loss: 0.7304 - val_accuracy: 0.8815\n",
            "Epoch 5/100\n",
            "422/422 [==============================] - 2s 4ms/step - loss: 0.7429 - accuracy: 0.8607 - val_loss: 0.5973 - val_accuracy: 0.8947\n",
            "Epoch 6/100\n",
            "422/422 [==============================] - 2s 4ms/step - loss: 0.6198 - accuracy: 0.8788 - val_loss: 0.5056 - val_accuracy: 0.9078\n",
            "Epoch 7/100\n",
            "422/422 [==============================] - 1s 4ms/step - loss: 0.5468 - accuracy: 0.8850 - val_loss: 0.4447 - val_accuracy: 0.9112\n",
            "Epoch 8/100\n",
            "422/422 [==============================] - 2s 4ms/step - loss: 0.4808 - accuracy: 0.8964 - val_loss: 0.3997 - val_accuracy: 0.9128\n",
            "Epoch 9/100\n",
            "422/422 [==============================] - 2s 4ms/step - loss: 0.4417 - accuracy: 0.8994 - val_loss: 0.3665 - val_accuracy: 0.9202\n",
            "Epoch 10/100\n",
            "422/422 [==============================] - 2s 5ms/step - loss: 0.4022 - accuracy: 0.9052 - val_loss: 0.3382 - val_accuracy: 0.9225\n",
            "Epoch 11/100\n",
            "422/422 [==============================] - 2s 4ms/step - loss: 0.3833 - accuracy: 0.9088 - val_loss: 0.3188 - val_accuracy: 0.9235\n",
            "Epoch 12/100\n",
            "422/422 [==============================] - 2s 4ms/step - loss: 0.3585 - accuracy: 0.9116 - val_loss: 0.3013 - val_accuracy: 0.9273\n",
            "Epoch 13/100\n",
            "422/422 [==============================] - 2s 4ms/step - loss: 0.3362 - accuracy: 0.9172 - val_loss: 0.2841 - val_accuracy: 0.9328\n",
            "Epoch 14/100\n",
            "422/422 [==============================] - 2s 4ms/step - loss: 0.3227 - accuracy: 0.9188 - val_loss: 0.2758 - val_accuracy: 0.9315\n",
            "Epoch 15/100\n",
            "422/422 [==============================] - 2s 4ms/step - loss: 0.3097 - accuracy: 0.9223 - val_loss: 0.2620 - val_accuracy: 0.9372\n",
            "Epoch 16/100\n",
            "422/422 [==============================] - 2s 4ms/step - loss: 0.2993 - accuracy: 0.9237 - val_loss: 0.2554 - val_accuracy: 0.9373\n",
            "Epoch 17/100\n",
            "422/422 [==============================] - 1s 4ms/step - loss: 0.2868 - accuracy: 0.9264 - val_loss: 0.2446 - val_accuracy: 0.9397\n",
            "Epoch 18/100\n",
            "422/422 [==============================] - 2s 4ms/step - loss: 0.2798 - accuracy: 0.9273 - val_loss: 0.2401 - val_accuracy: 0.9398\n",
            "Epoch 19/100\n",
            "422/422 [==============================] - 2s 5ms/step - loss: 0.2699 - accuracy: 0.9308 - val_loss: 0.2343 - val_accuracy: 0.9413\n",
            "Epoch 20/100\n",
            "422/422 [==============================] - 2s 5ms/step - loss: 0.2617 - accuracy: 0.9306 - val_loss: 0.2236 - val_accuracy: 0.9423\n",
            "Epoch 21/100\n",
            "422/422 [==============================] - 2s 4ms/step - loss: 0.2541 - accuracy: 0.9323 - val_loss: 0.2198 - val_accuracy: 0.9430\n",
            "Epoch 22/100\n",
            "422/422 [==============================] - 2s 5ms/step - loss: 0.2498 - accuracy: 0.9336 - val_loss: 0.2188 - val_accuracy: 0.9437\n",
            "Epoch 23/100\n",
            "422/422 [==============================] - 2s 5ms/step - loss: 0.2391 - accuracy: 0.9373 - val_loss: 0.2127 - val_accuracy: 0.9473\n",
            "Epoch 24/100\n",
            "422/422 [==============================] - 2s 5ms/step - loss: 0.2355 - accuracy: 0.9375 - val_loss: 0.2072 - val_accuracy: 0.9463\n",
            "Epoch 25/100\n",
            "422/422 [==============================] - 2s 4ms/step - loss: 0.2255 - accuracy: 0.9385 - val_loss: 0.2026 - val_accuracy: 0.9473\n",
            "Epoch 26/100\n",
            "422/422 [==============================] - 2s 4ms/step - loss: 0.2215 - accuracy: 0.9414 - val_loss: 0.1974 - val_accuracy: 0.9515\n",
            "Epoch 27/100\n",
            "422/422 [==============================] - 2s 4ms/step - loss: 0.2105 - accuracy: 0.9442 - val_loss: 0.1948 - val_accuracy: 0.9492\n",
            "Epoch 28/100\n",
            "422/422 [==============================] - 2s 4ms/step - loss: 0.2105 - accuracy: 0.9434 - val_loss: 0.1935 - val_accuracy: 0.9500\n",
            "Epoch 29/100\n",
            "422/422 [==============================] - 2s 5ms/step - loss: 0.2089 - accuracy: 0.9444 - val_loss: 0.1904 - val_accuracy: 0.9522\n",
            "Epoch 30/100\n",
            "422/422 [==============================] - 2s 4ms/step - loss: 0.2064 - accuracy: 0.9450 - val_loss: 0.1900 - val_accuracy: 0.9515\n",
            "Epoch 31/100\n",
            "422/422 [==============================] - 2s 5ms/step - loss: 0.2035 - accuracy: 0.9446 - val_loss: 0.1881 - val_accuracy: 0.9508\n",
            "Epoch 32/100\n",
            "422/422 [==============================] - 2s 5ms/step - loss: 0.2025 - accuracy: 0.9447 - val_loss: 0.1792 - val_accuracy: 0.9525\n",
            "Epoch 33/100\n",
            "422/422 [==============================] - 2s 4ms/step - loss: 0.1942 - accuracy: 0.9475 - val_loss: 0.1803 - val_accuracy: 0.9518\n",
            "Epoch 34/100\n",
            "422/422 [==============================] - 1s 4ms/step - loss: 0.1930 - accuracy: 0.9473 - val_loss: 0.1755 - val_accuracy: 0.9545\n",
            "Epoch 35/100\n",
            "422/422 [==============================] - 2s 4ms/step - loss: 0.1887 - accuracy: 0.9495 - val_loss: 0.1724 - val_accuracy: 0.9547\n",
            "Epoch 36/100\n",
            "422/422 [==============================] - 2s 5ms/step - loss: 0.1857 - accuracy: 0.9483 - val_loss: 0.1726 - val_accuracy: 0.9547\n",
            "Epoch 37/100\n",
            "422/422 [==============================] - 2s 5ms/step - loss: 0.1856 - accuracy: 0.9501 - val_loss: 0.1660 - val_accuracy: 0.9578\n",
            "Epoch 38/100\n",
            "422/422 [==============================] - 2s 5ms/step - loss: 0.1814 - accuracy: 0.9505 - val_loss: 0.1680 - val_accuracy: 0.9557\n",
            "Epoch 39/100\n",
            "422/422 [==============================] - 2s 5ms/step - loss: 0.1729 - accuracy: 0.9535 - val_loss: 0.1644 - val_accuracy: 0.9563\n",
            "Epoch 40/100\n",
            "422/422 [==============================] - 2s 4ms/step - loss: 0.1703 - accuracy: 0.9545 - val_loss: 0.1676 - val_accuracy: 0.9567\n",
            "Epoch 41/100\n",
            "422/422 [==============================] - 2s 4ms/step - loss: 0.1707 - accuracy: 0.9531 - val_loss: 0.1621 - val_accuracy: 0.9567\n",
            "Epoch 42/100\n",
            "422/422 [==============================] - 2s 4ms/step - loss: 0.1647 - accuracy: 0.9562 - val_loss: 0.1611 - val_accuracy: 0.9560\n",
            "Epoch 43/100\n",
            "422/422 [==============================] - 2s 5ms/step - loss: 0.1636 - accuracy: 0.9565 - val_loss: 0.1587 - val_accuracy: 0.9595\n",
            "Epoch 44/100\n",
            "422/422 [==============================] - 2s 5ms/step - loss: 0.1610 - accuracy: 0.9562 - val_loss: 0.1575 - val_accuracy: 0.9572\n",
            "Epoch 45/100\n",
            "422/422 [==============================] - 3s 6ms/step - loss: 0.1581 - accuracy: 0.9571 - val_loss: 0.1578 - val_accuracy: 0.9593\n",
            "Epoch 46/100\n",
            "422/422 [==============================] - 2s 4ms/step - loss: 0.1568 - accuracy: 0.9569 - val_loss: 0.1552 - val_accuracy: 0.9572\n",
            "Epoch 47/100\n",
            "422/422 [==============================] - 2s 5ms/step - loss: 0.1562 - accuracy: 0.9576 - val_loss: 0.1535 - val_accuracy: 0.9582\n",
            "Epoch 48/100\n",
            "422/422 [==============================] - 2s 4ms/step - loss: 0.1556 - accuracy: 0.9578 - val_loss: 0.1528 - val_accuracy: 0.9590\n",
            "Epoch 49/100\n",
            "422/422 [==============================] - 2s 4ms/step - loss: 0.1496 - accuracy: 0.9596 - val_loss: 0.1535 - val_accuracy: 0.9585\n",
            "Epoch 50/100\n",
            "422/422 [==============================] - 2s 5ms/step - loss: 0.1526 - accuracy: 0.9592 - val_loss: 0.1504 - val_accuracy: 0.9590\n",
            "Epoch 51/100\n",
            "422/422 [==============================] - 2s 4ms/step - loss: 0.1452 - accuracy: 0.9611 - val_loss: 0.1485 - val_accuracy: 0.9602\n",
            "Epoch 52/100\n",
            "422/422 [==============================] - 2s 5ms/step - loss: 0.1443 - accuracy: 0.9609 - val_loss: 0.1479 - val_accuracy: 0.9608\n",
            "Epoch 53/100\n",
            "422/422 [==============================] - 2s 4ms/step - loss: 0.1416 - accuracy: 0.9622 - val_loss: 0.1441 - val_accuracy: 0.9608\n",
            "Epoch 54/100\n",
            "422/422 [==============================] - 2s 4ms/step - loss: 0.1410 - accuracy: 0.9624 - val_loss: 0.1431 - val_accuracy: 0.9615\n",
            "Epoch 55/100\n",
            "422/422 [==============================] - 2s 5ms/step - loss: 0.1416 - accuracy: 0.9620 - val_loss: 0.1438 - val_accuracy: 0.9617\n",
            "Epoch 56/100\n",
            "422/422 [==============================] - 2s 5ms/step - loss: 0.1344 - accuracy: 0.9644 - val_loss: 0.1413 - val_accuracy: 0.9613\n",
            "Epoch 57/100\n",
            "422/422 [==============================] - 2s 5ms/step - loss: 0.1338 - accuracy: 0.9641 - val_loss: 0.1401 - val_accuracy: 0.9630\n",
            "Epoch 58/100\n",
            "422/422 [==============================] - 2s 4ms/step - loss: 0.1319 - accuracy: 0.9644 - val_loss: 0.1391 - val_accuracy: 0.9613\n",
            "Epoch 59/100\n",
            "422/422 [==============================] - 2s 5ms/step - loss: 0.1368 - accuracy: 0.9649 - val_loss: 0.1370 - val_accuracy: 0.9635\n",
            "Epoch 60/100\n",
            "422/422 [==============================] - 2s 4ms/step - loss: 0.1312 - accuracy: 0.9660 - val_loss: 0.1388 - val_accuracy: 0.9602\n",
            "Epoch 61/100\n",
            "422/422 [==============================] - 2s 4ms/step - loss: 0.1305 - accuracy: 0.9650 - val_loss: 0.1364 - val_accuracy: 0.9617\n",
            "Epoch 62/100\n",
            "422/422 [==============================] - 2s 4ms/step - loss: 0.1260 - accuracy: 0.9661 - val_loss: 0.1390 - val_accuracy: 0.9615\n",
            "Epoch 63/100\n",
            "422/422 [==============================] - 2s 4ms/step - loss: 0.1264 - accuracy: 0.9662 - val_loss: 0.1374 - val_accuracy: 0.9608\n",
            "Epoch 64/100\n",
            "422/422 [==============================] - 2s 4ms/step - loss: 0.1259 - accuracy: 0.9674 - val_loss: 0.1363 - val_accuracy: 0.9605\n",
            "Epoch 65/100\n",
            "422/422 [==============================] - 2s 4ms/step - loss: 0.1259 - accuracy: 0.9671 - val_loss: 0.1331 - val_accuracy: 0.9630\n",
            "Epoch 66/100\n",
            "422/422 [==============================] - 2s 4ms/step - loss: 0.1190 - accuracy: 0.9689 - val_loss: 0.1339 - val_accuracy: 0.9632\n",
            "Epoch 67/100\n",
            "422/422 [==============================] - 2s 4ms/step - loss: 0.1199 - accuracy: 0.9683 - val_loss: 0.1290 - val_accuracy: 0.9660\n",
            "Epoch 68/100\n",
            "422/422 [==============================] - 2s 4ms/step - loss: 0.1162 - accuracy: 0.9707 - val_loss: 0.1302 - val_accuracy: 0.9632\n",
            "Epoch 69/100\n",
            "422/422 [==============================] - 2s 4ms/step - loss: 0.1191 - accuracy: 0.9688 - val_loss: 0.1293 - val_accuracy: 0.9650\n",
            "Epoch 70/100\n",
            "422/422 [==============================] - 2s 4ms/step - loss: 0.1161 - accuracy: 0.9704 - val_loss: 0.1314 - val_accuracy: 0.9628\n",
            "Epoch 71/100\n",
            "422/422 [==============================] - 2s 5ms/step - loss: 0.1147 - accuracy: 0.9701 - val_loss: 0.1295 - val_accuracy: 0.9647\n",
            "Epoch 72/100\n",
            "422/422 [==============================] - 2s 4ms/step - loss: 0.1104 - accuracy: 0.9720 - val_loss: 0.1275 - val_accuracy: 0.9650\n",
            "Epoch 73/100\n",
            "422/422 [==============================] - 2s 4ms/step - loss: 0.1123 - accuracy: 0.9698 - val_loss: 0.1282 - val_accuracy: 0.9632\n",
            "Epoch 74/100\n",
            "422/422 [==============================] - 2s 4ms/step - loss: 0.1073 - accuracy: 0.9715 - val_loss: 0.1244 - val_accuracy: 0.9653\n",
            "Epoch 75/100\n",
            "422/422 [==============================] - 2s 4ms/step - loss: 0.1089 - accuracy: 0.9719 - val_loss: 0.1287 - val_accuracy: 0.9630\n",
            "Epoch 76/100\n",
            "422/422 [==============================] - 2s 4ms/step - loss: 0.1075 - accuracy: 0.9714 - val_loss: 0.1283 - val_accuracy: 0.9642\n",
            "Epoch 77/100\n",
            "422/422 [==============================] - 2s 4ms/step - loss: 0.1114 - accuracy: 0.9715 - val_loss: 0.1244 - val_accuracy: 0.9657\n",
            "Epoch 78/100\n",
            "422/422 [==============================] - 2s 4ms/step - loss: 0.1035 - accuracy: 0.9731 - val_loss: 0.1255 - val_accuracy: 0.9640\n",
            "Epoch 79/100\n",
            "422/422 [==============================] - 2s 4ms/step - loss: 0.1023 - accuracy: 0.9742 - val_loss: 0.1277 - val_accuracy: 0.9648\n",
            "Epoch 80/100\n",
            "422/422 [==============================] - 2s 4ms/step - loss: 0.1063 - accuracy: 0.9729 - val_loss: 0.1227 - val_accuracy: 0.9658\n",
            "Epoch 81/100\n",
            "422/422 [==============================] - 2s 4ms/step - loss: 0.1017 - accuracy: 0.9734 - val_loss: 0.1261 - val_accuracy: 0.9638\n",
            "Epoch 82/100\n",
            "422/422 [==============================] - 2s 4ms/step - loss: 0.1002 - accuracy: 0.9735 - val_loss: 0.1252 - val_accuracy: 0.9655\n",
            "Epoch 83/100\n",
            "422/422 [==============================] - 2s 4ms/step - loss: 0.1023 - accuracy: 0.9737 - val_loss: 0.1257 - val_accuracy: 0.9633\n",
            "Epoch 84/100\n",
            "422/422 [==============================] - 2s 4ms/step - loss: 0.0990 - accuracy: 0.9747 - val_loss: 0.1260 - val_accuracy: 0.9632\n",
            "Epoch 85/100\n",
            "422/422 [==============================] - 2s 4ms/step - loss: 0.0955 - accuracy: 0.9750 - val_loss: 0.1209 - val_accuracy: 0.9655\n",
            "Epoch 86/100\n",
            "422/422 [==============================] - 2s 4ms/step - loss: 0.0969 - accuracy: 0.9752 - val_loss: 0.1213 - val_accuracy: 0.9652\n",
            "Epoch 87/100\n",
            "422/422 [==============================] - 2s 4ms/step - loss: 0.0946 - accuracy: 0.9762 - val_loss: 0.1205 - val_accuracy: 0.9645\n",
            "Epoch 88/100\n",
            "422/422 [==============================] - 2s 4ms/step - loss: 0.0961 - accuracy: 0.9750 - val_loss: 0.1211 - val_accuracy: 0.9660\n",
            "Epoch 89/100\n",
            "422/422 [==============================] - 2s 4ms/step - loss: 0.0915 - accuracy: 0.9774 - val_loss: 0.1226 - val_accuracy: 0.9635\n",
            "Epoch 90/100\n",
            "422/422 [==============================] - 2s 4ms/step - loss: 0.0899 - accuracy: 0.9773 - val_loss: 0.1223 - val_accuracy: 0.9650\n",
            "Epoch 91/100\n",
            "422/422 [==============================] - 2s 4ms/step - loss: 0.0923 - accuracy: 0.9765 - val_loss: 0.1178 - val_accuracy: 0.9665\n",
            "Epoch 92/100\n",
            "422/422 [==============================] - 2s 4ms/step - loss: 0.0893 - accuracy: 0.9776 - val_loss: 0.1194 - val_accuracy: 0.9657\n",
            "Epoch 93/100\n",
            "422/422 [==============================] - 2s 4ms/step - loss: 0.0860 - accuracy: 0.9782 - val_loss: 0.1194 - val_accuracy: 0.9658\n",
            "Epoch 94/100\n",
            "422/422 [==============================] - 2s 4ms/step - loss: 0.0889 - accuracy: 0.9775 - val_loss: 0.1167 - val_accuracy: 0.9682\n",
            "Epoch 95/100\n",
            "422/422 [==============================] - 2s 4ms/step - loss: 0.0894 - accuracy: 0.9772 - val_loss: 0.1148 - val_accuracy: 0.9665\n",
            "Epoch 96/100\n",
            "422/422 [==============================] - 2s 4ms/step - loss: 0.0881 - accuracy: 0.9773 - val_loss: 0.1156 - val_accuracy: 0.9653\n",
            "Epoch 97/100\n",
            "422/422 [==============================] - 2s 4ms/step - loss: 0.0861 - accuracy: 0.9784 - val_loss: 0.1163 - val_accuracy: 0.9677\n",
            "Epoch 98/100\n",
            "422/422 [==============================] - 2s 4ms/step - loss: 0.0853 - accuracy: 0.9787 - val_loss: 0.1202 - val_accuracy: 0.9642\n",
            "Epoch 99/100\n",
            "422/422 [==============================] - 2s 4ms/step - loss: 0.0828 - accuracy: 0.9793 - val_loss: 0.1173 - val_accuracy: 0.9648\n",
            "Epoch 100/100\n",
            "422/422 [==============================] - 2s 4ms/step - loss: 0.0832 - accuracy: 0.9798 - val_loss: 0.1163 - val_accuracy: 0.9658\n"
          ],
          "name": "stdout"
        }
      ]
    },
    {
      "cell_type": "code",
      "metadata": {
        "colab": {
          "base_uri": "https://localhost:8080/"
        },
        "id": "_u-8GK8xerWb",
        "outputId": "40b6e5a9-52a0-411b-b190-e65728afc3ea"
      },
      "source": [
        "lose,accuracy = model.evaluate(x_test,y_test,verbose = True)"
      ],
      "execution_count": null,
      "outputs": [
        {
          "output_type": "stream",
          "text": [
            "313/313 [==============================] - 0s 1ms/step - loss: 0.1393 - accuracy: 0.9571\n"
          ],
          "name": "stdout"
        }
      ]
    },
    {
      "cell_type": "code",
      "metadata": {
        "colab": {
          "base_uri": "https://localhost:8080/",
          "height": 295
        },
        "id": "utxb_sZ5e40p",
        "outputId": "1416c8b3-63ce-45e7-ef83-af0bc0b1954a"
      },
      "source": [
        "plt.plot(history.history['accuracy'])\n",
        "plt.plot(history.history['val_accuracy'])\n",
        "plt.title('model accuracy')\n",
        "plt.ylabel('accuracy')\n",
        "plt.xlabel('epoch')\n",
        "plt.legend(['training','validation'],loc='best')\n",
        "plt.show()"
      ],
      "execution_count": null,
      "outputs": [
        {
          "output_type": "display_data",
          "data": {
            "image/png": "[encoded data removed]",
            "text/plain": [
              "<Figure size 432x288 with 1 Axes>"
            ]
          },
          "metadata": {
            "tags": [],
            "needs_background": "light"
          }
        }
      ]
    }
  ]
}